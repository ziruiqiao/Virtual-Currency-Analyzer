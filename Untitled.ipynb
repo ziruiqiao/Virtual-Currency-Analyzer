{
 "cells": [
  {
   "cell_type": "code",
   "execution_count": 45,
   "id": "cf7669ea",
   "metadata": {},
   "outputs": [],
   "source": [
    "from mike_config import TFrame, crypto_lst, time_frame\n",
    "import pandas as pd\n",
    "import os"
   ]
  },
  {
   "cell_type": "code",
   "execution_count": 46,
   "id": "ee828901",
   "metadata": {},
   "outputs": [],
   "source": [
    "def read_csv(symbol: str, timestamp: str):\n",
    "    dir_path = 'D:/GitHub/tryStock/data/' + symbol.replace(\"/\", \"\") + '/' + timestamp + '/'\n",
    "    file_list = os.listdir(dir_path)\n",
    "    df = pd.DataFrame()\n",
    "    for f in file_list:\n",
    "        if len(df) == 0:\n",
    "            df = pd.read_csv(dir_path + f)\n",
    "        else:\n",
    "            df = pd.concat([df, pd.read_csv(dir_path + f)])\n",
    "    return df"
   ]
  },
  {
   "cell_type": "code",
   "execution_count": 47,
   "id": "a199c7e0",
   "metadata": {},
   "outputs": [],
   "source": [
    "df = read_csv(crypto_lst[0], time_frame[0])"
   ]
  },
  {
   "cell_type": "code",
   "execution_count": 48,
   "id": "f05827f4",
   "metadata": {},
   "outputs": [],
   "source": [
    "df_filtered = df.filter(regex=r'^(?!.*date).*$')"
   ]
  },
  {
   "cell_type": "code",
   "execution_count": 49,
   "id": "64b82d56",
   "metadata": {},
   "outputs": [
    {
     "name": "stdout",
     "output_type": "stream",
     "text": [
      "      open0     high0      low0    close0    volume0     open1     high1  \\\n",
      "0  13715.65  13715.65  13576.28  13600.00  33.617798  13600.00  13600.00   \n",
      "1  13600.00  13600.00  13501.01  13554.58  40.528679  13554.58  13569.97   \n",
      "2  13554.58  13569.97  13400.01  13556.15  49.469536  13533.75  13547.73   \n",
      "3  13533.75  13547.73  13402.00  13430.52  32.725614  13440.01  13459.99   \n",
      "4  13440.01  13459.99  13410.44  13439.94  26.614135  13439.94  13550.87   \n",
      "\n",
      "       low1    close1    volume1  ...    high28     low28   close28  \\\n",
      "0  13501.01  13554.58  40.528679  ...  13330.37  13228.03  13301.65   \n",
      "1  13400.01  13556.15  49.469536  ...  13330.00  13225.00  13225.00   \n",
      "2  13402.00  13430.52  32.725614  ...  13349.99  13200.00  13288.00   \n",
      "3  13410.44  13439.94  26.614135  ...  13340.00  13210.00  13220.00   \n",
      "4  13420.05  13521.12  38.796681  ...  13340.00  13220.00  13321.08   \n",
      "\n",
      "    volume28    open29    high29    low29   close29   volume29  prediction  \n",
      "0  34.640036  13301.65  13330.00  13225.0  13225.00  34.404702           3  \n",
      "1  34.404702  13247.80  13349.99  13200.0  13288.00  40.749234           1  \n",
      "2  40.749234  13300.00  13340.00  13210.0  13220.00  41.084138           0  \n",
      "3  41.084138  13225.22  13340.00  13220.0  13321.08  29.886131           1  \n",
      "4  29.886131  13338.97  13389.00  13320.0  13365.99  43.155417           0  \n",
      "\n",
      "[5 rows x 151 columns]\n"
     ]
    }
   ],
   "source": [
    "print(df_filtered.head())"
   ]
  },
  {
   "cell_type": "code",
   "execution_count": 50,
   "id": "e6277918",
   "metadata": {},
   "outputs": [
    {
     "name": "stdout",
     "output_type": "stream",
     "text": [
      "(571428, 151)\n"
     ]
    }
   ],
   "source": [
    "print(df_filtered.shape)"
   ]
  },
  {
   "cell_type": "code",
   "execution_count": 52,
   "id": "7a4e1a01",
   "metadata": {},
   "outputs": [],
   "source": [
    "def calc_data(df: pd.DataFrame, name: str):\n",
    "    columns = df.filter(like=name, axis=1).columns\n",
    "    row_mean = df[columns].mean(axis=1)\n",
    "    row_median = df[columns].median(axis=1)\n",
    "    row_std = df[columns].std(axis=1)\n",
    "    row_var = df[columns].var(axis=1)\n",
    "    row_max = df[columns].max(axis=1)\n",
    "    row_min = df[columns].min(axis=1)\n",
    "    percentile_25 = df[columns].quantile(0.25, axis=1)\n",
    "    percentile_75 = df[columns].quantile(0.75, axis=1)\n",
    "    df.insert(df.shape[1]-1, name + '_mean',  row_mean.tolist())\n",
    "    df.insert(df.shape[1]-1, name + '_median',  row_median.tolist())\n",
    "    df.insert(df.shape[1]-1, name + '_std',  row_std.tolist())\n",
    "    df.insert(df.shape[1]-1, name + '_var',  row_var.tolist())\n",
    "    df.insert(df.shape[1]-1, name + '_max',  row_max.tolist())\n",
    "    df.insert(df.shape[1]-1, name + '_min',  row_min.tolist())\n",
    "    df.insert(df.shape[1]-1, name + '_25p',  percentile_25.tolist())\n",
    "    df.insert(df.shape[1]-1, name + '_75p',  percentile_75.tolist())\n",
    "    return df"
   ]
  },
  {
   "cell_type": "code",
   "execution_count": 53,
   "id": "d90afbbc",
   "metadata": {},
   "outputs": [
    {
     "name": "stdout",
     "output_type": "stream",
     "text": [
      "          open0     high0      low0    close0     volume0     open1     high1  \\\n",
      "0      13715.65  13715.65  13576.28  13600.00   33.617798  13600.00  13600.00   \n",
      "1      13600.00  13600.00  13501.01  13554.58   40.528679  13554.58  13569.97   \n",
      "2      13554.58  13569.97  13400.01  13556.15   49.469536  13533.75  13547.73   \n",
      "3      13533.75  13547.73  13402.00  13430.52   32.725614  13440.01  13459.99   \n",
      "4      13440.01  13459.99  13410.44  13439.94   26.614135  13439.94  13550.87   \n",
      "...         ...       ...       ...       ...         ...       ...       ...   \n",
      "66928  25864.16  25874.69  25856.09  25863.10   78.049490  25863.10  25868.44   \n",
      "66929  25863.10  25868.44  25840.45  25865.29  138.005920  25865.30  25872.62   \n",
      "66930  25865.30  25872.62  25857.68  25863.36   88.187040  25863.36  25893.46   \n",
      "66931  25863.36  25893.46  25863.13  25882.90  121.368240  25882.89  25882.90   \n",
      "66932  25882.89  25882.90  25858.49  25867.81   94.139420  25867.81  25876.06   \n",
      "\n",
      "           low1    close1     volume1  ...   close_75p  volume_mean  \\\n",
      "0      13501.01  13554.58   40.528679  ...  13529.7525    34.359390   \n",
      "1      13400.01  13556.15   49.469536  ...  13527.0375    34.597105   \n",
      "2      13402.00  13430.52   32.725614  ...  13519.8125    34.615620   \n",
      "3      13410.44  13439.94   26.614135  ...  13515.6675    33.962840   \n",
      "4      13420.05  13521.12   38.796681  ...  13515.6675    34.310500   \n",
      "...         ...       ...         ...  ...         ...          ...   \n",
      "66928  25840.45  25865.29  138.005920  ...  25889.3575    91.666598   \n",
      "66929  25857.68  25863.36   88.187040  ...  25890.9575    91.308653   \n",
      "66930  25863.13  25882.90  121.368240  ...  25892.3975    88.790983   \n",
      "66931  25858.49  25867.81   94.139420  ...  25892.3975    88.068443   \n",
      "66932  25861.14  25866.21   77.136180  ...  25892.3975    85.518488   \n",
      "\n",
      "       volume_median  volume_std   volume_var  volume_max  volume_min  \\\n",
      "0          33.171706   10.595302   112.260428   62.357841   20.777753   \n",
      "1          33.565158   10.657905   113.590941   62.357841   20.777753   \n",
      "2          33.565158   10.669042   113.828450   62.357841   20.777753   \n",
      "3          31.305872   10.322340   106.550712   62.357841   20.777753   \n",
      "4          32.145416   10.454033   109.286805   62.357841   20.777753   \n",
      "...              ...         ...          ...         ...         ...   \n",
      "66928      77.136180   52.587462  2765.441195  215.410300   35.519200   \n",
      "66929      73.529700   52.719725  2779.369452  215.410300   35.519200   \n",
      "66930      69.549230   52.213834  2726.284505  215.410300   35.519200   \n",
      "66931      68.243185   52.372219  2742.849298  215.410300   35.519200   \n",
      "66932      66.910975   52.556972  2762.235347  215.410300   35.519200   \n",
      "\n",
      "       volume_25p  volume_75p  prediction  \n",
      "0       26.048551   41.605877           3  \n",
      "1       26.048551   41.605877           1  \n",
      "2       26.048551   41.654153           0  \n",
      "3       26.048551   41.035862           1  \n",
      "4       26.048551   41.654153           0  \n",
      "...           ...         ...         ...  \n",
      "66928   46.138178  130.224105           2  \n",
      "66929   46.138178  130.224105           2  \n",
      "66930   46.138178  117.513927           2  \n",
      "66931   46.138178  117.513927           2  \n",
      "66932   44.107405  102.998098           2  \n",
      "\n",
      "[571428 rows x 191 columns]\n"
     ]
    }
   ],
   "source": [
    "for n in ['open', 'high', 'low', 'close', 'volume']:\n",
    "    df_filtered = calc_data(df_filtered, n)\n",
    "print(df_filtered)"
   ]
  },
  {
   "cell_type": "code",
   "execution_count": 54,
   "id": "ff736d56",
   "metadata": {},
   "outputs": [
    {
     "name": "stdout",
     "output_type": "stream",
     "text": [
      "   Column1 Column2  Column3\n",
      "0        2       B      8.9\n",
      "1        5       E     12.5\n",
      "2        3       C     10.1\n",
      "3        1       A      6.7\n",
      "4        4       D     11.3\n"
     ]
    }
   ],
   "source": [
    "import pandas as pd\n",
    "\n",
    "# Create a sample DataFrame\n",
    "df = pd.DataFrame({'Column1': [1, 2, 3, 4, 5],\n",
    "                   'Column2': ['A', 'B', 'C', 'D', 'E'],\n",
    "                   'Column3': [6.7, 8.9, 10.1, 11.3, 12.5]})\n",
    "\n",
    "# Shuffle the DataFrame\n",
    "shuffled_df = df.sample(frac=1, random_state=42)\n",
    "\n",
    "# Reset the index of the shuffled DataFrame\n",
    "shuffled_df = shuffled_df.reset_index(drop=True)\n",
    "\n",
    "print(shuffled_df)\n"
   ]
  }
 ],
 "metadata": {
  "kernelspec": {
   "display_name": "py310",
   "language": "python",
   "name": "py310"
  },
  "language_info": {
   "codemirror_mode": {
    "name": "ipython",
    "version": 3
   },
   "file_extension": ".py",
   "mimetype": "text/x-python",
   "name": "python",
   "nbconvert_exporter": "python",
   "pygments_lexer": "ipython3",
   "version": "3.10.10"
  }
 },
 "nbformat": 4,
 "nbformat_minor": 5
}
