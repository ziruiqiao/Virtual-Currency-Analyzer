{
 "cells": [
  {
   "cell_type": "code",
   "execution_count": 20,
   "metadata": {
    "collapsed": true,
    "ExecuteTime": {
     "end_time": "2023-07-01T21:03:56.005937200Z",
     "start_time": "2023-07-01T21:03:55.855934300Z"
    }
   },
   "outputs": [
    {
     "data": {
      "text/plain": "     transaction_id  session_id    transaction_time product_id  amount  \\\n264             380          21 2014-01-01 05:14:10          5   57.09   \n19              244          10 2014-01-01 02:34:55          2  116.95   \n314             299           6 2014-01-01 01:32:05          4   64.99   \n290              78           4 2014-01-01 00:54:10          1   37.50   \n379             457          27 2014-01-01 06:37:35          1   19.16   \n335             477           9 2014-01-01 02:30:35          3   41.70   \n293             103           4 2014-01-01 00:57:25          5   20.79   \n271             390          22 2014-01-01 05:21:45          2   54.83   \n404             476          29 2014-01-01 07:24:10          4  121.59   \n179              90           3 2014-01-01 00:35:45          1   75.73   \n\n     customer_id   device       session_start zip_code           join_date  \\\n264            4  desktop 2014-01-01 05:02:15    60091 2011-04-08 20:08:14   \n19             2   tablet 2014-01-01 02:31:40    13244 2012-04-15 23:31:04   \n314            1   tablet 2014-01-01 01:23:25    60091 2011-04-17 10:48:33   \n290            1   mobile 2014-01-01 00:44:25    60091 2011-04-17 10:48:33   \n379            1   mobile 2014-01-01 06:34:20    60091 2011-04-17 10:48:33   \n335            1  desktop 2014-01-01 02:15:25    60091 2011-04-17 10:48:33   \n293            1   mobile 2014-01-01 00:44:25    60091 2011-04-17 10:48:33   \n271            4  desktop 2014-01-01 05:21:45    60091 2011-04-08 20:08:14   \n404            1   mobile 2014-01-01 07:10:05    60091 2011-04-17 10:48:33   \n179            4   mobile 2014-01-01 00:28:10    60091 2011-04-08 20:08:14   \n\n      birthday  \n264 2006-08-15  \n19  1986-08-18  \n314 1994-07-18  \n290 1994-07-18  \n379 1994-07-18  \n335 1994-07-18  \n293 1994-07-18  \n271 2006-08-15  \n404 1994-07-18  \n179 2006-08-15  ",
      "text/html": "<div>\n<style scoped>\n    .dataframe tbody tr th:only-of-type {\n        vertical-align: middle;\n    }\n\n    .dataframe tbody tr th {\n        vertical-align: top;\n    }\n\n    .dataframe thead th {\n        text-align: right;\n    }\n</style>\n<table border=\"1\" class=\"dataframe\">\n  <thead>\n    <tr style=\"text-align: right;\">\n      <th></th>\n      <th>transaction_id</th>\n      <th>session_id</th>\n      <th>transaction_time</th>\n      <th>product_id</th>\n      <th>amount</th>\n      <th>customer_id</th>\n      <th>device</th>\n      <th>session_start</th>\n      <th>zip_code</th>\n      <th>join_date</th>\n      <th>birthday</th>\n    </tr>\n  </thead>\n  <tbody>\n    <tr>\n      <th>264</th>\n      <td>380</td>\n      <td>21</td>\n      <td>2014-01-01 05:14:10</td>\n      <td>5</td>\n      <td>57.09</td>\n      <td>4</td>\n      <td>desktop</td>\n      <td>2014-01-01 05:02:15</td>\n      <td>60091</td>\n      <td>2011-04-08 20:08:14</td>\n      <td>2006-08-15</td>\n    </tr>\n    <tr>\n      <th>19</th>\n      <td>244</td>\n      <td>10</td>\n      <td>2014-01-01 02:34:55</td>\n      <td>2</td>\n      <td>116.95</td>\n      <td>2</td>\n      <td>tablet</td>\n      <td>2014-01-01 02:31:40</td>\n      <td>13244</td>\n      <td>2012-04-15 23:31:04</td>\n      <td>1986-08-18</td>\n    </tr>\n    <tr>\n      <th>314</th>\n      <td>299</td>\n      <td>6</td>\n      <td>2014-01-01 01:32:05</td>\n      <td>4</td>\n      <td>64.99</td>\n      <td>1</td>\n      <td>tablet</td>\n      <td>2014-01-01 01:23:25</td>\n      <td>60091</td>\n      <td>2011-04-17 10:48:33</td>\n      <td>1994-07-18</td>\n    </tr>\n    <tr>\n      <th>290</th>\n      <td>78</td>\n      <td>4</td>\n      <td>2014-01-01 00:54:10</td>\n      <td>1</td>\n      <td>37.50</td>\n      <td>1</td>\n      <td>mobile</td>\n      <td>2014-01-01 00:44:25</td>\n      <td>60091</td>\n      <td>2011-04-17 10:48:33</td>\n      <td>1994-07-18</td>\n    </tr>\n    <tr>\n      <th>379</th>\n      <td>457</td>\n      <td>27</td>\n      <td>2014-01-01 06:37:35</td>\n      <td>1</td>\n      <td>19.16</td>\n      <td>1</td>\n      <td>mobile</td>\n      <td>2014-01-01 06:34:20</td>\n      <td>60091</td>\n      <td>2011-04-17 10:48:33</td>\n      <td>1994-07-18</td>\n    </tr>\n    <tr>\n      <th>335</th>\n      <td>477</td>\n      <td>9</td>\n      <td>2014-01-01 02:30:35</td>\n      <td>3</td>\n      <td>41.70</td>\n      <td>1</td>\n      <td>desktop</td>\n      <td>2014-01-01 02:15:25</td>\n      <td>60091</td>\n      <td>2011-04-17 10:48:33</td>\n      <td>1994-07-18</td>\n    </tr>\n    <tr>\n      <th>293</th>\n      <td>103</td>\n      <td>4</td>\n      <td>2014-01-01 00:57:25</td>\n      <td>5</td>\n      <td>20.79</td>\n      <td>1</td>\n      <td>mobile</td>\n      <td>2014-01-01 00:44:25</td>\n      <td>60091</td>\n      <td>2011-04-17 10:48:33</td>\n      <td>1994-07-18</td>\n    </tr>\n    <tr>\n      <th>271</th>\n      <td>390</td>\n      <td>22</td>\n      <td>2014-01-01 05:21:45</td>\n      <td>2</td>\n      <td>54.83</td>\n      <td>4</td>\n      <td>desktop</td>\n      <td>2014-01-01 05:21:45</td>\n      <td>60091</td>\n      <td>2011-04-08 20:08:14</td>\n      <td>2006-08-15</td>\n    </tr>\n    <tr>\n      <th>404</th>\n      <td>476</td>\n      <td>29</td>\n      <td>2014-01-01 07:24:10</td>\n      <td>4</td>\n      <td>121.59</td>\n      <td>1</td>\n      <td>mobile</td>\n      <td>2014-01-01 07:10:05</td>\n      <td>60091</td>\n      <td>2011-04-17 10:48:33</td>\n      <td>1994-07-18</td>\n    </tr>\n    <tr>\n      <th>179</th>\n      <td>90</td>\n      <td>3</td>\n      <td>2014-01-01 00:35:45</td>\n      <td>1</td>\n      <td>75.73</td>\n      <td>4</td>\n      <td>mobile</td>\n      <td>2014-01-01 00:28:10</td>\n      <td>60091</td>\n      <td>2011-04-08 20:08:14</td>\n      <td>2006-08-15</td>\n    </tr>\n  </tbody>\n</table>\n</div>"
     },
     "execution_count": 20,
     "metadata": {},
     "output_type": "execute_result"
    }
   ],
   "source": [
    "import featuretools as ft\n",
    "\n",
    "data = ft.demo.load_mock_customer()\n",
    "transactions_df = data[\"transactions\"].merge(data[\"sessions\"]).merge(data[\"customers\"])\n",
    "\n",
    "transactions_df.sample(10)"
   ]
  },
  {
   "cell_type": "code",
   "execution_count": 21,
   "outputs": [
    {
     "data": {
      "text/plain": "  product_id brand\n0          1     B\n1          2     B\n2          3     B\n3          4     B\n4          5     A",
      "text/html": "<div>\n<style scoped>\n    .dataframe tbody tr th:only-of-type {\n        vertical-align: middle;\n    }\n\n    .dataframe tbody tr th {\n        vertical-align: top;\n    }\n\n    .dataframe thead th {\n        text-align: right;\n    }\n</style>\n<table border=\"1\" class=\"dataframe\">\n  <thead>\n    <tr style=\"text-align: right;\">\n      <th></th>\n      <th>product_id</th>\n      <th>brand</th>\n    </tr>\n  </thead>\n  <tbody>\n    <tr>\n      <th>0</th>\n      <td>1</td>\n      <td>B</td>\n    </tr>\n    <tr>\n      <th>1</th>\n      <td>2</td>\n      <td>B</td>\n    </tr>\n    <tr>\n      <th>2</th>\n      <td>3</td>\n      <td>B</td>\n    </tr>\n    <tr>\n      <th>3</th>\n      <td>4</td>\n      <td>B</td>\n    </tr>\n    <tr>\n      <th>4</th>\n      <td>5</td>\n      <td>A</td>\n    </tr>\n  </tbody>\n</table>\n</div>"
     },
     "execution_count": 21,
     "metadata": {},
     "output_type": "execute_result"
    }
   ],
   "source": [
    "products_df = data[\"products\"]\n",
    "products_df"
   ],
   "metadata": {
    "collapsed": false,
    "ExecuteTime": {
     "end_time": "2023-07-01T21:03:56.008934300Z",
     "start_time": "2023-07-01T21:03:55.890936900Z"
    }
   }
  },
  {
   "cell_type": "markdown",
   "source": [
    "## Add dataframe with index, time_index and logical_types"
   ],
   "metadata": {
    "collapsed": false
   }
  },
  {
   "cell_type": "code",
   "execution_count": 22,
   "outputs": [
    {
     "data": {
      "text/plain": "Entityset: customer_data\n  DataFrames:\n    transactions [Rows: 500, Columns: 11]\n  Relationships:\n    No relationships"
     },
     "execution_count": 22,
     "metadata": {},
     "output_type": "execute_result"
    }
   ],
   "source": [
    "es = ft.EntitySet(id=\"customer_data\")\n",
    "from woodwork.logical_types import Categorical, PostalCode\n",
    "es = es.add_dataframe(\n",
    "    dataframe_name=\"transactions\",\n",
    "    dataframe=transactions_df,\n",
    "    index=\"transaction_id\",   # unique key\n",
    "    time_index=\"transaction_time\",  # when data was created\n",
    "    logical_types={\n",
    "        \"product_id\": Categorical, # indicates that \"product_id\" should be interpreted as a Categorical column, even though it is just an INTEGER in the underlying data.\n",
    "        \"zip_code\": PostalCode   # interpreted as Postal Code\n",
    "    },\n",
    ")\n",
    "\n",
    "es"
   ],
   "metadata": {
    "collapsed": false,
    "ExecuteTime": {
     "end_time": "2023-07-01T21:03:56.059934900Z",
     "start_time": "2023-07-01T21:03:55.905934Z"
    }
   }
  },
  {
   "cell_type": "markdown",
   "source": [
    "We can also use a SETTER on the **EntitySet** Object to add dataframes\n",
    "```python\n",
    "es[\"transactions\"] = transactions_df\n",
    "```\n"
   ],
   "metadata": {
    "collapsed": false
   }
  },
  {
   "cell_type": "markdown",
   "source": [
    "## Show Schema"
   ],
   "metadata": {
    "collapsed": false
   }
  },
  {
   "cell_type": "code",
   "execution_count": 23,
   "outputs": [
    {
     "data": {
      "image/svg+xml": "<?xml version=\"1.0\" encoding=\"UTF-8\" standalone=\"no\"?>\n<!DOCTYPE svg PUBLIC \"-//W3C//DTD SVG 1.1//EN\"\n \"http://www.w3.org/Graphics/SVG/1.1/DTD/svg11.dtd\">\n<!-- Generated by graphviz version 2.50.0 (0)\n -->\n<!-- Title: customer_data Pages: 1 -->\n<svg width=\"246pt\" height=\"205pt\"\n viewBox=\"0.00 0.00 246.00 205.00\" xmlns=\"http://www.w3.org/2000/svg\" xmlns:xlink=\"http://www.w3.org/1999/xlink\">\n<g id=\"graph0\" class=\"graph\" transform=\"scale(1 1) rotate(0) translate(4 201)\">\n<title>customer_data</title>\n<polygon fill=\"white\" stroke=\"transparent\" points=\"-4,4 -4,-201 242,-201 242,4 -4,4\"/>\n<!-- transactions -->\n<g id=\"node1\" class=\"node\">\n<title>transactions</title>\n<polygon fill=\"none\" stroke=\"black\" points=\"0,-0.5 0,-196.5 238,-196.5 238,-0.5 0,-0.5\"/>\n<text text-anchor=\"middle\" x=\"119\" y=\"-181.3\" font-family=\"Times New Roman,serif\" font-size=\"14.00\">transactions (500 rows)</text>\n<polyline fill=\"none\" stroke=\"black\" points=\"0,-173.5 238,-173.5 \"/>\n<text text-anchor=\"start\" x=\"8\" y=\"-158.3\" font-family=\"Times New Roman,serif\" font-size=\"14.00\">transaction_id : Integer; index</text>\n<text text-anchor=\"start\" x=\"8\" y=\"-143.3\" font-family=\"Times New Roman,serif\" font-size=\"14.00\">session_id : Integer</text>\n<text text-anchor=\"start\" x=\"8\" y=\"-128.3\" font-family=\"Times New Roman,serif\" font-size=\"14.00\">transaction_time : Datetime; time_index</text>\n<text text-anchor=\"start\" x=\"8\" y=\"-113.3\" font-family=\"Times New Roman,serif\" font-size=\"14.00\">product_id : Categorical</text>\n<text text-anchor=\"start\" x=\"8\" y=\"-98.3\" font-family=\"Times New Roman,serif\" font-size=\"14.00\">amount : Double</text>\n<text text-anchor=\"start\" x=\"8\" y=\"-83.3\" font-family=\"Times New Roman,serif\" font-size=\"14.00\">customer_id : Integer</text>\n<text text-anchor=\"start\" x=\"8\" y=\"-68.3\" font-family=\"Times New Roman,serif\" font-size=\"14.00\">device : Categorical</text>\n<text text-anchor=\"start\" x=\"8\" y=\"-53.3\" font-family=\"Times New Roman,serif\" font-size=\"14.00\">session_start : Datetime</text>\n<text text-anchor=\"start\" x=\"8\" y=\"-38.3\" font-family=\"Times New Roman,serif\" font-size=\"14.00\">zip_code : PostalCode</text>\n<text text-anchor=\"start\" x=\"8\" y=\"-23.3\" font-family=\"Times New Roman,serif\" font-size=\"14.00\">join_date : Datetime</text>\n<text text-anchor=\"start\" x=\"8\" y=\"-8.3\" font-family=\"Times New Roman,serif\" font-size=\"14.00\">birthday : Datetime</text>\n</g>\n</g>\n</svg>\n",
      "text/plain": "<graphviz.graphs.Digraph at 0x256261b0d90>"
     },
     "execution_count": 23,
     "metadata": {},
     "output_type": "execute_result"
    }
   ],
   "source": [
    "es.plot()"
   ],
   "metadata": {
    "collapsed": false,
    "ExecuteTime": {
     "end_time": "2023-07-01T21:03:56.163932700Z",
     "start_time": "2023-07-01T21:03:55.953933200Z"
    }
   }
  },
  {
   "cell_type": "code",
   "execution_count": 24,
   "outputs": [
    {
     "data": {
      "text/plain": "                 Logical Type Semantic Tag(s)\nColumn                                       \ntransaction_id        Integer       ['index']\nsession_id            Integer     ['numeric']\ntransaction_time     Datetime  ['time_index']\nproduct_id        Categorical    ['category']\namount                 Double     ['numeric']\ncustomer_id           Integer     ['numeric']\ndevice            Categorical    ['category']\nsession_start        Datetime              []\nzip_code           PostalCode    ['category']\njoin_date            Datetime              []\nbirthday             Datetime              []",
      "text/html": "<table border=\"1\" class=\"dataframe\">\n  <thead>\n    <tr style=\"text-align: right;\">\n      <th></th>\n      <th>Logical Type</th>\n      <th>Semantic Tag(s)</th>\n    </tr>\n    <tr>\n      <th>Column</th>\n      <th></th>\n      <th></th>\n    </tr>\n  </thead>\n  <tbody>\n    <tr>\n      <th>transaction_id</th>\n      <td>Integer</td>\n      <td>['index']</td>\n    </tr>\n    <tr>\n      <th>session_id</th>\n      <td>Integer</td>\n      <td>['numeric']</td>\n    </tr>\n    <tr>\n      <th>transaction_time</th>\n      <td>Datetime</td>\n      <td>['time_index']</td>\n    </tr>\n    <tr>\n      <th>product_id</th>\n      <td>Categorical</td>\n      <td>['category']</td>\n    </tr>\n    <tr>\n      <th>amount</th>\n      <td>Double</td>\n      <td>['numeric']</td>\n    </tr>\n    <tr>\n      <th>customer_id</th>\n      <td>Integer</td>\n      <td>['numeric']</td>\n    </tr>\n    <tr>\n      <th>device</th>\n      <td>Categorical</td>\n      <td>['category']</td>\n    </tr>\n    <tr>\n      <th>session_start</th>\n      <td>Datetime</td>\n      <td>[]</td>\n    </tr>\n    <tr>\n      <th>zip_code</th>\n      <td>PostalCode</td>\n      <td>['category']</td>\n    </tr>\n    <tr>\n      <th>join_date</th>\n      <td>Datetime</td>\n      <td>[]</td>\n    </tr>\n    <tr>\n      <th>birthday</th>\n      <td>Datetime</td>\n      <td>[]</td>\n    </tr>\n  </tbody>\n</table>"
     },
     "execution_count": 24,
     "metadata": {},
     "output_type": "execute_result"
    }
   ],
   "source": [
    "es[\"transactions\"].ww.schema"
   ],
   "metadata": {
    "collapsed": false,
    "ExecuteTime": {
     "end_time": "2023-07-01T21:03:56.185931400Z",
     "start_time": "2023-07-01T21:03:56.078937100Z"
    }
   }
  },
  {
   "cell_type": "markdown",
   "source": [
    "## Add Dataframe"
   ],
   "metadata": {
    "collapsed": false
   }
  },
  {
   "cell_type": "code",
   "execution_count": 25,
   "outputs": [
    {
     "data": {
      "text/plain": "Entityset: customer_data\n  DataFrames:\n    transactions [Rows: 500, Columns: 11]\n    products [Rows: 5, Columns: 2]\n  Relationships:\n    No relationships"
     },
     "execution_count": 25,
     "metadata": {},
     "output_type": "execute_result"
    }
   ],
   "source": [
    "es = es.add_dataframe(\n",
    "    dataframe_name=\"products\", dataframe=products_df, index=\"product_id\"\n",
    ")\n",
    "\n",
    "es"
   ],
   "metadata": {
    "collapsed": false,
    "ExecuteTime": {
     "end_time": "2023-07-01T21:03:56.186933200Z",
     "start_time": "2023-07-01T21:03:56.094936900Z"
    }
   }
  },
  {
   "cell_type": "markdown",
   "source": [
    "## Add Relationship"
   ],
   "metadata": {
    "collapsed": false
   }
  },
  {
   "cell_type": "code",
   "execution_count": 26,
   "outputs": [
    {
     "data": {
      "text/plain": "Entityset: customer_data\n  DataFrames:\n    transactions [Rows: 500, Columns: 11]\n    products [Rows: 5, Columns: 2]\n  Relationships:\n    transactions.product_id -> products.product_id"
     },
     "execution_count": 26,
     "metadata": {},
     "output_type": "execute_result"
    }
   ],
   "source": [
    "es.add_relationship(\"products\", \"product_id\", \"transactions\", \"product_id\")\n",
    "es # Note: child column name cannot be its index"
   ],
   "metadata": {
    "collapsed": false,
    "ExecuteTime": {
     "end_time": "2023-07-01T21:03:56.186933200Z",
     "start_time": "2023-07-01T21:03:56.129933900Z"
    }
   }
  },
  {
   "cell_type": "markdown",
   "source": [
    "## Creating a dataframe from an existing table"
   ],
   "metadata": {
    "collapsed": false
   }
  },
  {
   "cell_type": "code",
   "execution_count": 27,
   "outputs": [
    {
     "data": {
      "text/plain": "'\\nDid 2 operations:\\n1. created a new dataframe based on \"session_id\" and \"session_start\" in \"transactions\"\\n2. added a relationship connecting \"transactions\" and \"sessions\"\\n'"
     },
     "execution_count": 27,
     "metadata": {},
     "output_type": "execute_result"
    }
   ],
   "source": [
    "es = es.normalize_dataframe(\n",
    "    base_dataframe_name=\"transactions\",\n",
    "    new_dataframe_name=\"sessions\",\n",
    "    index=\"session_id\",\n",
    "    make_time_index=\"session_start\",\n",
    "    additional_columns=[\n",
    "        \"device\",\n",
    "        \"customer_id\",\n",
    "        \"zip_code\",\n",
    "        \"session_start\",\n",
    "        \"join_date\",\n",
    "    ],\n",
    ")\n",
    "es\n",
    "\n",
    "\"\"\"\n",
    "Did 2 operations:\n",
    "1. created a new dataframe based on \"session_id\" and \"session_start\" in \"transactions\"\n",
    "2. added a relationship connecting \"transactions\" and \"sessions\"\n",
    "\"\"\""
   ],
   "metadata": {
    "collapsed": false,
    "ExecuteTime": {
     "end_time": "2023-07-01T21:03:56.186933200Z",
     "start_time": "2023-07-01T21:03:56.130933900Z"
    }
   }
  },
  {
   "cell_type": "code",
   "execution_count": 28,
   "outputs": [
    {
     "data": {
      "text/plain": "    session_id   device  customer_id zip_code       session_start  \\\n1            1  desktop            2    13244 2014-01-01 00:00:00   \n2            2   mobile            5    60091 2014-01-01 00:17:20   \n3            3   mobile            4    60091 2014-01-01 00:28:10   \n4            4   mobile            1    60091 2014-01-01 00:44:25   \n5            5   mobile            4    60091 2014-01-01 01:11:30   \n6            6   tablet            1    60091 2014-01-01 01:23:25   \n7            7   tablet            3    13244 2014-01-01 01:39:40   \n8            8   tablet            4    60091 2014-01-01 01:55:55   \n9            9  desktop            1    60091 2014-01-01 02:15:25   \n10          10   tablet            2    13244 2014-01-01 02:31:40   \n11          11   mobile            4    60091 2014-01-01 02:47:55   \n12          12  desktop            4    60091 2014-01-01 03:04:10   \n13          13   mobile            4    60091 2014-01-01 03:15:00   \n14          14   tablet            1    60091 2014-01-01 03:28:00   \n15          15  desktop            2    13244 2014-01-01 03:41:00   \n16          16  desktop            2    13244 2014-01-01 03:49:40   \n17          17   tablet            2    13244 2014-01-01 04:00:30   \n18          18  desktop            1    60091 2014-01-01 04:14:35   \n19          19  desktop            3    13244 2014-01-01 04:27:35   \n20          20  desktop            5    60091 2014-01-01 04:46:00   \n21          21  desktop            4    60091 2014-01-01 05:02:15   \n22          22  desktop            4    60091 2014-01-01 05:21:45   \n23          23  desktop            3    13244 2014-01-01 05:32:35   \n24          24   tablet            5    60091 2014-01-01 05:44:30   \n25          25  desktop            3    13244 2014-01-01 05:59:40   \n26          26   tablet            1    60091 2014-01-01 06:17:00   \n27          27   mobile            1    60091 2014-01-01 06:34:20   \n28          28   mobile            5    60091 2014-01-01 06:50:35   \n29          29   mobile            1    60091 2014-01-01 07:10:05   \n30          30  desktop            5    60091 2014-01-01 07:27:25   \n31          31   mobile            2    13244 2014-01-01 07:42:35   \n32          32   mobile            5    60091 2014-01-01 08:02:05   \n33          33   mobile            2    13244 2014-01-01 08:10:45   \n34          34  desktop            3    13244 2014-01-01 08:24:50   \n35          35   mobile            3    13244 2014-01-01 08:44:20   \n\n             join_date  \n1  2012-04-15 23:31:04  \n2  2010-07-17 05:27:50  \n3  2011-04-08 20:08:14  \n4  2011-04-17 10:48:33  \n5  2011-04-08 20:08:14  \n6  2011-04-17 10:48:33  \n7  2011-08-13 15:42:34  \n8  2011-04-08 20:08:14  \n9  2011-04-17 10:48:33  \n10 2012-04-15 23:31:04  \n11 2011-04-08 20:08:14  \n12 2011-04-08 20:08:14  \n13 2011-04-08 20:08:14  \n14 2011-04-17 10:48:33  \n15 2012-04-15 23:31:04  \n16 2012-04-15 23:31:04  \n17 2012-04-15 23:31:04  \n18 2011-04-17 10:48:33  \n19 2011-08-13 15:42:34  \n20 2010-07-17 05:27:50  \n21 2011-04-08 20:08:14  \n22 2011-04-08 20:08:14  \n23 2011-08-13 15:42:34  \n24 2010-07-17 05:27:50  \n25 2011-08-13 15:42:34  \n26 2011-04-17 10:48:33  \n27 2011-04-17 10:48:33  \n28 2010-07-17 05:27:50  \n29 2011-04-17 10:48:33  \n30 2010-07-17 05:27:50  \n31 2012-04-15 23:31:04  \n32 2010-07-17 05:27:50  \n33 2012-04-15 23:31:04  \n34 2011-08-13 15:42:34  \n35 2011-08-13 15:42:34  ",
      "text/html": "<div>\n<style scoped>\n    .dataframe tbody tr th:only-of-type {\n        vertical-align: middle;\n    }\n\n    .dataframe tbody tr th {\n        vertical-align: top;\n    }\n\n    .dataframe thead th {\n        text-align: right;\n    }\n</style>\n<table border=\"1\" class=\"dataframe\">\n  <thead>\n    <tr style=\"text-align: right;\">\n      <th></th>\n      <th>session_id</th>\n      <th>device</th>\n      <th>customer_id</th>\n      <th>zip_code</th>\n      <th>session_start</th>\n      <th>join_date</th>\n    </tr>\n  </thead>\n  <tbody>\n    <tr>\n      <th>1</th>\n      <td>1</td>\n      <td>desktop</td>\n      <td>2</td>\n      <td>13244</td>\n      <td>2014-01-01 00:00:00</td>\n      <td>2012-04-15 23:31:04</td>\n    </tr>\n    <tr>\n      <th>2</th>\n      <td>2</td>\n      <td>mobile</td>\n      <td>5</td>\n      <td>60091</td>\n      <td>2014-01-01 00:17:20</td>\n      <td>2010-07-17 05:27:50</td>\n    </tr>\n    <tr>\n      <th>3</th>\n      <td>3</td>\n      <td>mobile</td>\n      <td>4</td>\n      <td>60091</td>\n      <td>2014-01-01 00:28:10</td>\n      <td>2011-04-08 20:08:14</td>\n    </tr>\n    <tr>\n      <th>4</th>\n      <td>4</td>\n      <td>mobile</td>\n      <td>1</td>\n      <td>60091</td>\n      <td>2014-01-01 00:44:25</td>\n      <td>2011-04-17 10:48:33</td>\n    </tr>\n    <tr>\n      <th>5</th>\n      <td>5</td>\n      <td>mobile</td>\n      <td>4</td>\n      <td>60091</td>\n      <td>2014-01-01 01:11:30</td>\n      <td>2011-04-08 20:08:14</td>\n    </tr>\n    <tr>\n      <th>6</th>\n      <td>6</td>\n      <td>tablet</td>\n      <td>1</td>\n      <td>60091</td>\n      <td>2014-01-01 01:23:25</td>\n      <td>2011-04-17 10:48:33</td>\n    </tr>\n    <tr>\n      <th>7</th>\n      <td>7</td>\n      <td>tablet</td>\n      <td>3</td>\n      <td>13244</td>\n      <td>2014-01-01 01:39:40</td>\n      <td>2011-08-13 15:42:34</td>\n    </tr>\n    <tr>\n      <th>8</th>\n      <td>8</td>\n      <td>tablet</td>\n      <td>4</td>\n      <td>60091</td>\n      <td>2014-01-01 01:55:55</td>\n      <td>2011-04-08 20:08:14</td>\n    </tr>\n    <tr>\n      <th>9</th>\n      <td>9</td>\n      <td>desktop</td>\n      <td>1</td>\n      <td>60091</td>\n      <td>2014-01-01 02:15:25</td>\n      <td>2011-04-17 10:48:33</td>\n    </tr>\n    <tr>\n      <th>10</th>\n      <td>10</td>\n      <td>tablet</td>\n      <td>2</td>\n      <td>13244</td>\n      <td>2014-01-01 02:31:40</td>\n      <td>2012-04-15 23:31:04</td>\n    </tr>\n    <tr>\n      <th>11</th>\n      <td>11</td>\n      <td>mobile</td>\n      <td>4</td>\n      <td>60091</td>\n      <td>2014-01-01 02:47:55</td>\n      <td>2011-04-08 20:08:14</td>\n    </tr>\n    <tr>\n      <th>12</th>\n      <td>12</td>\n      <td>desktop</td>\n      <td>4</td>\n      <td>60091</td>\n      <td>2014-01-01 03:04:10</td>\n      <td>2011-04-08 20:08:14</td>\n    </tr>\n    <tr>\n      <th>13</th>\n      <td>13</td>\n      <td>mobile</td>\n      <td>4</td>\n      <td>60091</td>\n      <td>2014-01-01 03:15:00</td>\n      <td>2011-04-08 20:08:14</td>\n    </tr>\n    <tr>\n      <th>14</th>\n      <td>14</td>\n      <td>tablet</td>\n      <td>1</td>\n      <td>60091</td>\n      <td>2014-01-01 03:28:00</td>\n      <td>2011-04-17 10:48:33</td>\n    </tr>\n    <tr>\n      <th>15</th>\n      <td>15</td>\n      <td>desktop</td>\n      <td>2</td>\n      <td>13244</td>\n      <td>2014-01-01 03:41:00</td>\n      <td>2012-04-15 23:31:04</td>\n    </tr>\n    <tr>\n      <th>16</th>\n      <td>16</td>\n      <td>desktop</td>\n      <td>2</td>\n      <td>13244</td>\n      <td>2014-01-01 03:49:40</td>\n      <td>2012-04-15 23:31:04</td>\n    </tr>\n    <tr>\n      <th>17</th>\n      <td>17</td>\n      <td>tablet</td>\n      <td>2</td>\n      <td>13244</td>\n      <td>2014-01-01 04:00:30</td>\n      <td>2012-04-15 23:31:04</td>\n    </tr>\n    <tr>\n      <th>18</th>\n      <td>18</td>\n      <td>desktop</td>\n      <td>1</td>\n      <td>60091</td>\n      <td>2014-01-01 04:14:35</td>\n      <td>2011-04-17 10:48:33</td>\n    </tr>\n    <tr>\n      <th>19</th>\n      <td>19</td>\n      <td>desktop</td>\n      <td>3</td>\n      <td>13244</td>\n      <td>2014-01-01 04:27:35</td>\n      <td>2011-08-13 15:42:34</td>\n    </tr>\n    <tr>\n      <th>20</th>\n      <td>20</td>\n      <td>desktop</td>\n      <td>5</td>\n      <td>60091</td>\n      <td>2014-01-01 04:46:00</td>\n      <td>2010-07-17 05:27:50</td>\n    </tr>\n    <tr>\n      <th>21</th>\n      <td>21</td>\n      <td>desktop</td>\n      <td>4</td>\n      <td>60091</td>\n      <td>2014-01-01 05:02:15</td>\n      <td>2011-04-08 20:08:14</td>\n    </tr>\n    <tr>\n      <th>22</th>\n      <td>22</td>\n      <td>desktop</td>\n      <td>4</td>\n      <td>60091</td>\n      <td>2014-01-01 05:21:45</td>\n      <td>2011-04-08 20:08:14</td>\n    </tr>\n    <tr>\n      <th>23</th>\n      <td>23</td>\n      <td>desktop</td>\n      <td>3</td>\n      <td>13244</td>\n      <td>2014-01-01 05:32:35</td>\n      <td>2011-08-13 15:42:34</td>\n    </tr>\n    <tr>\n      <th>24</th>\n      <td>24</td>\n      <td>tablet</td>\n      <td>5</td>\n      <td>60091</td>\n      <td>2014-01-01 05:44:30</td>\n      <td>2010-07-17 05:27:50</td>\n    </tr>\n    <tr>\n      <th>25</th>\n      <td>25</td>\n      <td>desktop</td>\n      <td>3</td>\n      <td>13244</td>\n      <td>2014-01-01 05:59:40</td>\n      <td>2011-08-13 15:42:34</td>\n    </tr>\n    <tr>\n      <th>26</th>\n      <td>26</td>\n      <td>tablet</td>\n      <td>1</td>\n      <td>60091</td>\n      <td>2014-01-01 06:17:00</td>\n      <td>2011-04-17 10:48:33</td>\n    </tr>\n    <tr>\n      <th>27</th>\n      <td>27</td>\n      <td>mobile</td>\n      <td>1</td>\n      <td>60091</td>\n      <td>2014-01-01 06:34:20</td>\n      <td>2011-04-17 10:48:33</td>\n    </tr>\n    <tr>\n      <th>28</th>\n      <td>28</td>\n      <td>mobile</td>\n      <td>5</td>\n      <td>60091</td>\n      <td>2014-01-01 06:50:35</td>\n      <td>2010-07-17 05:27:50</td>\n    </tr>\n    <tr>\n      <th>29</th>\n      <td>29</td>\n      <td>mobile</td>\n      <td>1</td>\n      <td>60091</td>\n      <td>2014-01-01 07:10:05</td>\n      <td>2011-04-17 10:48:33</td>\n    </tr>\n    <tr>\n      <th>30</th>\n      <td>30</td>\n      <td>desktop</td>\n      <td>5</td>\n      <td>60091</td>\n      <td>2014-01-01 07:27:25</td>\n      <td>2010-07-17 05:27:50</td>\n    </tr>\n    <tr>\n      <th>31</th>\n      <td>31</td>\n      <td>mobile</td>\n      <td>2</td>\n      <td>13244</td>\n      <td>2014-01-01 07:42:35</td>\n      <td>2012-04-15 23:31:04</td>\n    </tr>\n    <tr>\n      <th>32</th>\n      <td>32</td>\n      <td>mobile</td>\n      <td>5</td>\n      <td>60091</td>\n      <td>2014-01-01 08:02:05</td>\n      <td>2010-07-17 05:27:50</td>\n    </tr>\n    <tr>\n      <th>33</th>\n      <td>33</td>\n      <td>mobile</td>\n      <td>2</td>\n      <td>13244</td>\n      <td>2014-01-01 08:10:45</td>\n      <td>2012-04-15 23:31:04</td>\n    </tr>\n    <tr>\n      <th>34</th>\n      <td>34</td>\n      <td>desktop</td>\n      <td>3</td>\n      <td>13244</td>\n      <td>2014-01-01 08:24:50</td>\n      <td>2011-08-13 15:42:34</td>\n    </tr>\n    <tr>\n      <th>35</th>\n      <td>35</td>\n      <td>mobile</td>\n      <td>3</td>\n      <td>13244</td>\n      <td>2014-01-01 08:44:20</td>\n      <td>2011-08-13 15:42:34</td>\n    </tr>\n  </tbody>\n</table>\n</div>"
     },
     "execution_count": 28,
     "metadata": {},
     "output_type": "execute_result"
    }
   ],
   "source": [
    "es[\"sessions\"]"
   ],
   "metadata": {
    "collapsed": false,
    "ExecuteTime": {
     "end_time": "2023-07-01T21:03:56.211936500Z",
     "start_time": "2023-07-01T21:03:56.143934800Z"
    }
   }
  },
  {
   "cell_type": "code",
   "execution_count": 29,
   "outputs": [
    {
     "data": {
      "text/plain": "                 Logical Type              Semantic Tag(s)\nColumn                                                    \ntransaction_id        Integer                    ['index']\nsession_id            Integer   ['foreign_key', 'numeric']\ntransaction_time     Datetime               ['time_index']\nproduct_id        Categorical  ['foreign_key', 'category']\namount                 Double                  ['numeric']\nbirthday             Datetime                           []",
      "text/html": "<table border=\"1\" class=\"dataframe\">\n  <thead>\n    <tr style=\"text-align: right;\">\n      <th></th>\n      <th>Logical Type</th>\n      <th>Semantic Tag(s)</th>\n    </tr>\n    <tr>\n      <th>Column</th>\n      <th></th>\n      <th></th>\n    </tr>\n  </thead>\n  <tbody>\n    <tr>\n      <th>transaction_id</th>\n      <td>Integer</td>\n      <td>['index']</td>\n    </tr>\n    <tr>\n      <th>session_id</th>\n      <td>Integer</td>\n      <td>['foreign_key', 'numeric']</td>\n    </tr>\n    <tr>\n      <th>transaction_time</th>\n      <td>Datetime</td>\n      <td>['time_index']</td>\n    </tr>\n    <tr>\n      <th>product_id</th>\n      <td>Categorical</td>\n      <td>['foreign_key', 'category']</td>\n    </tr>\n    <tr>\n      <th>amount</th>\n      <td>Double</td>\n      <td>['numeric']</td>\n    </tr>\n    <tr>\n      <th>birthday</th>\n      <td>Datetime</td>\n      <td>[]</td>\n    </tr>\n  </tbody>\n</table>"
     },
     "execution_count": 29,
     "metadata": {},
     "output_type": "execute_result"
    }
   ],
   "source": [
    "es[\"transactions\"].ww.schema"
   ],
   "metadata": {
    "collapsed": false,
    "ExecuteTime": {
     "end_time": "2023-07-01T21:03:56.302933600Z",
     "start_time": "2023-07-01T21:03:56.175934Z"
    }
   }
  },
  {
   "cell_type": "code",
   "execution_count": 30,
   "outputs": [
    {
     "data": {
      "text/plain": "              Logical Type Semantic Tag(s)\nColumn                                    \nsession_id         Integer       ['index']\ndevice         Categorical    ['category']\ncustomer_id        Integer     ['numeric']\nzip_code        PostalCode    ['category']\nsession_start     Datetime  ['time_index']\njoin_date         Datetime              []",
      "text/html": "<table border=\"1\" class=\"dataframe\">\n  <thead>\n    <tr style=\"text-align: right;\">\n      <th></th>\n      <th>Logical Type</th>\n      <th>Semantic Tag(s)</th>\n    </tr>\n    <tr>\n      <th>Column</th>\n      <th></th>\n      <th></th>\n    </tr>\n  </thead>\n  <tbody>\n    <tr>\n      <th>session_id</th>\n      <td>Integer</td>\n      <td>['index']</td>\n    </tr>\n    <tr>\n      <th>device</th>\n      <td>Categorical</td>\n      <td>['category']</td>\n    </tr>\n    <tr>\n      <th>customer_id</th>\n      <td>Integer</td>\n      <td>['numeric']</td>\n    </tr>\n    <tr>\n      <th>zip_code</th>\n      <td>PostalCode</td>\n      <td>['category']</td>\n    </tr>\n    <tr>\n      <th>session_start</th>\n      <td>Datetime</td>\n      <td>['time_index']</td>\n    </tr>\n    <tr>\n      <th>join_date</th>\n      <td>Datetime</td>\n      <td>[]</td>\n    </tr>\n  </tbody>\n</table>"
     },
     "execution_count": 30,
     "metadata": {},
     "output_type": "execute_result"
    }
   ],
   "source": [
    "es[\"sessions\"].ww.schema"
   ],
   "metadata": {
    "collapsed": false,
    "ExecuteTime": {
     "end_time": "2023-07-01T21:03:56.303932900Z",
     "start_time": "2023-07-01T21:03:56.194936400Z"
    }
   }
  },
  {
   "cell_type": "markdown",
   "source": [
    "### It did Two More Operations Automatically\n",
    "1. It removed “device”, “customer_id”, “zip_code” and “join_date” from “transactions” and created new columns in the sessions dataframe. This reduces redundant information as the those properties of a session don’t change between transactions.\n",
    "2. It copied and marked “session_start” as a time index column into the new sessions dataframe to indicate the beginning of a session. If the base dataframe has a time index and `make_time_index` is not set, `normalize_dataframe` will create a time index for the new dataframe. In this case it would create a new time index called “first_transactions_time” using the time of the first transaction of each session. If we don’t want this time index to be created, we can set `make_time_index=False`."
   ],
   "metadata": {
    "collapsed": false
   }
  },
  {
   "cell_type": "code",
   "execution_count": 31,
   "outputs": [
    {
     "data": {
      "text/plain": "   session_id   device  customer_id zip_code       session_start  \\\n1           1  desktop            2    13244 2014-01-01 00:00:00   \n2           2   mobile            5    60091 2014-01-01 00:17:20   \n3           3   mobile            4    60091 2014-01-01 00:28:10   \n4           4   mobile            1    60091 2014-01-01 00:44:25   \n5           5   mobile            4    60091 2014-01-01 01:11:30   \n\n            join_date  \n1 2012-04-15 23:31:04  \n2 2010-07-17 05:27:50  \n3 2011-04-08 20:08:14  \n4 2011-04-17 10:48:33  \n5 2011-04-08 20:08:14  ",
      "text/html": "<div>\n<style scoped>\n    .dataframe tbody tr th:only-of-type {\n        vertical-align: middle;\n    }\n\n    .dataframe tbody tr th {\n        vertical-align: top;\n    }\n\n    .dataframe thead th {\n        text-align: right;\n    }\n</style>\n<table border=\"1\" class=\"dataframe\">\n  <thead>\n    <tr style=\"text-align: right;\">\n      <th></th>\n      <th>session_id</th>\n      <th>device</th>\n      <th>customer_id</th>\n      <th>zip_code</th>\n      <th>session_start</th>\n      <th>join_date</th>\n    </tr>\n  </thead>\n  <tbody>\n    <tr>\n      <th>1</th>\n      <td>1</td>\n      <td>desktop</td>\n      <td>2</td>\n      <td>13244</td>\n      <td>2014-01-01 00:00:00</td>\n      <td>2012-04-15 23:31:04</td>\n    </tr>\n    <tr>\n      <th>2</th>\n      <td>2</td>\n      <td>mobile</td>\n      <td>5</td>\n      <td>60091</td>\n      <td>2014-01-01 00:17:20</td>\n      <td>2010-07-17 05:27:50</td>\n    </tr>\n    <tr>\n      <th>3</th>\n      <td>3</td>\n      <td>mobile</td>\n      <td>4</td>\n      <td>60091</td>\n      <td>2014-01-01 00:28:10</td>\n      <td>2011-04-08 20:08:14</td>\n    </tr>\n    <tr>\n      <th>4</th>\n      <td>4</td>\n      <td>mobile</td>\n      <td>1</td>\n      <td>60091</td>\n      <td>2014-01-01 00:44:25</td>\n      <td>2011-04-17 10:48:33</td>\n    </tr>\n    <tr>\n      <th>5</th>\n      <td>5</td>\n      <td>mobile</td>\n      <td>4</td>\n      <td>60091</td>\n      <td>2014-01-01 01:11:30</td>\n      <td>2011-04-08 20:08:14</td>\n    </tr>\n  </tbody>\n</table>\n</div>"
     },
     "execution_count": 31,
     "metadata": {},
     "output_type": "execute_result"
    }
   ],
   "source": [
    "es[\"sessions\"].head(5)"
   ],
   "metadata": {
    "collapsed": false,
    "ExecuteTime": {
     "end_time": "2023-07-01T21:03:56.303932900Z",
     "start_time": "2023-07-01T21:03:56.204936600Z"
    }
   }
  },
  {
   "cell_type": "code",
   "execution_count": 32,
   "outputs": [
    {
     "data": {
      "text/plain": "     transaction_id  session_id    transaction_time product_id  amount  \\\n298             298           1 2014-01-01 00:00:00          5  127.64   \n2                 2           1 2014-01-01 00:01:05          2  109.48   \n308             308           1 2014-01-01 00:02:10          3   95.06   \n116             116           1 2014-01-01 00:03:15          4   78.92   \n371             371           1 2014-01-01 00:04:20          3   31.54   \n\n      birthday  \n298 1986-08-18  \n2   1986-08-18  \n308 1986-08-18  \n116 1986-08-18  \n371 1986-08-18  ",
      "text/html": "<div>\n<style scoped>\n    .dataframe tbody tr th:only-of-type {\n        vertical-align: middle;\n    }\n\n    .dataframe tbody tr th {\n        vertical-align: top;\n    }\n\n    .dataframe thead th {\n        text-align: right;\n    }\n</style>\n<table border=\"1\" class=\"dataframe\">\n  <thead>\n    <tr style=\"text-align: right;\">\n      <th></th>\n      <th>transaction_id</th>\n      <th>session_id</th>\n      <th>transaction_time</th>\n      <th>product_id</th>\n      <th>amount</th>\n      <th>birthday</th>\n    </tr>\n  </thead>\n  <tbody>\n    <tr>\n      <th>298</th>\n      <td>298</td>\n      <td>1</td>\n      <td>2014-01-01 00:00:00</td>\n      <td>5</td>\n      <td>127.64</td>\n      <td>1986-08-18</td>\n    </tr>\n    <tr>\n      <th>2</th>\n      <td>2</td>\n      <td>1</td>\n      <td>2014-01-01 00:01:05</td>\n      <td>2</td>\n      <td>109.48</td>\n      <td>1986-08-18</td>\n    </tr>\n    <tr>\n      <th>308</th>\n      <td>308</td>\n      <td>1</td>\n      <td>2014-01-01 00:02:10</td>\n      <td>3</td>\n      <td>95.06</td>\n      <td>1986-08-18</td>\n    </tr>\n    <tr>\n      <th>116</th>\n      <td>116</td>\n      <td>1</td>\n      <td>2014-01-01 00:03:15</td>\n      <td>4</td>\n      <td>78.92</td>\n      <td>1986-08-18</td>\n    </tr>\n    <tr>\n      <th>371</th>\n      <td>371</td>\n      <td>1</td>\n      <td>2014-01-01 00:04:20</td>\n      <td>3</td>\n      <td>31.54</td>\n      <td>1986-08-18</td>\n    </tr>\n  </tbody>\n</table>\n</div>"
     },
     "execution_count": 32,
     "metadata": {},
     "output_type": "execute_result"
    }
   ],
   "source": [
    "es[\"transactions\"].head(5)"
   ],
   "metadata": {
    "collapsed": false,
    "ExecuteTime": {
     "end_time": "2023-07-01T21:03:56.304937200Z",
     "start_time": "2023-07-01T21:03:56.220933100Z"
    }
   }
  },
  {
   "cell_type": "code",
   "execution_count": 33,
   "outputs": [
    {
     "data": {
      "text/plain": "Entityset: customer_data\n  DataFrames:\n    transactions [Rows: 500, Columns: 6]\n    products [Rows: 5, Columns: 2]\n    sessions [Rows: 35, Columns: 4]\n    customers [Rows: 5, Columns: 3]\n  Relationships:\n    transactions.product_id -> products.product_id\n    transactions.session_id -> sessions.session_id\n    sessions.customer_id -> customers.customer_id"
     },
     "execution_count": 33,
     "metadata": {},
     "output_type": "execute_result"
    }
   ],
   "source": [
    "es = es.normalize_dataframe(\n",
    "    base_dataframe_name=\"sessions\",\n",
    "    new_dataframe_name=\"customers\",\n",
    "    index=\"customer_id\",\n",
    "    make_time_index=\"join_date\",\n",
    "    additional_columns=[\"zip_code\", \"join_date\"],\n",
    ")\n",
    "\n",
    "es"
   ],
   "metadata": {
    "collapsed": false,
    "ExecuteTime": {
     "end_time": "2023-07-01T21:03:56.362931900Z",
     "start_time": "2023-07-01T21:03:56.237936300Z"
    }
   }
  },
  {
   "cell_type": "markdown",
   "source": [
    "## Ready to Use!!"
   ],
   "metadata": {
    "collapsed": false
   }
  },
  {
   "cell_type": "code",
   "execution_count": 34,
   "outputs": [
    {
     "data": {
      "text/plain": "            COUNT(transactions)  MAX(transactions.amount)  \\\nproduct_id                                                  \n1                           102                    149.56   \n2                            92                    149.95   \n3                            96                    148.31   \n4                           106                    146.46   \n5                           104                    149.02   \n\n            MEAN(transactions.amount)  MIN(transactions.amount)  \\\nproduct_id                                                        \n1                           73.429314                      6.84   \n2                           76.319891                      5.73   \n3                           73.001250                      5.89   \n4                           76.311038                      5.81   \n5                           76.264904                      5.91   \n\n            SKEW(transactions.amount)  STD(transactions.amount)  \\\nproduct_id                                                        \n1                            0.125525                 42.479989   \n2                            0.151934                 46.336308   \n3                            0.223938                 38.871405   \n4                           -0.132077                 42.492501   \n5                            0.098248                 42.131902   \n\n            SUM(transactions.amount) MODE(transactions.DAY(birthday))  \\\nproduct_id                                                              \n1                            7489.79                               18   \n2                            7021.43                               18   \n3                            7008.12                               18   \n4                            8088.97                               18   \n5                            7931.55                               18   \n\n           MODE(transactions.DAY(transaction_time))  \\\nproduct_id                                            \n1                                                 1   \n2                                                 1   \n3                                                 1   \n4                                                 1   \n5                                                 1   \n\n           MODE(transactions.MONTH(birthday))  ...  \\\nproduct_id                                     ...   \n1                                           7  ...   \n2                                           8  ...   \n3                                           8  ...   \n4                                           7  ...   \n5                                           7  ...   \n\n           MODE(transactions.sessions.device)  \\\nproduct_id                                      \n1                                     desktop   \n2                                     desktop   \n3                                     desktop   \n4                                     desktop   \n5                                      mobile   \n\n           NUM_UNIQUE(transactions.DAY(birthday))  \\\nproduct_id                                          \n1                                               4   \n2                                               4   \n3                                               4   \n4                                               4   \n5                                               4   \n\n           NUM_UNIQUE(transactions.DAY(transaction_time))  \\\nproduct_id                                                  \n1                                                       1   \n2                                                       1   \n3                                                       1   \n4                                                       1   \n5                                                       1   \n\n           NUM_UNIQUE(transactions.MONTH(birthday))  \\\nproduct_id                                            \n1                                                 3   \n2                                                 3   \n3                                                 3   \n4                                                 3   \n5                                                 3   \n\n           NUM_UNIQUE(transactions.MONTH(transaction_time))  \\\nproduct_id                                                    \n1                                                         1   \n2                                                         1   \n3                                                         1   \n4                                                         1   \n5                                                         1   \n\n           NUM_UNIQUE(transactions.WEEKDAY(birthday))  \\\nproduct_id                                              \n1                                                   4   \n2                                                   4   \n3                                                   4   \n4                                                   4   \n5                                                   4   \n\n            NUM_UNIQUE(transactions.WEEKDAY(transaction_time))  \\\nproduct_id                                                       \n1                                                           1    \n2                                                           1    \n3                                                           1    \n4                                                           1    \n5                                                           1    \n\n            NUM_UNIQUE(transactions.YEAR(birthday))  \\\nproduct_id                                            \n1                                                 5   \n2                                                 5   \n3                                                 5   \n4                                                 5   \n5                                                 5   \n\n            NUM_UNIQUE(transactions.YEAR(transaction_time))  \\\nproduct_id                                                    \n1                                                         1   \n2                                                         1   \n3                                                         1   \n4                                                         1   \n5                                                         1   \n\n            NUM_UNIQUE(transactions.sessions.device)  \nproduct_id                                            \n1                                                  3  \n2                                                  3  \n3                                                  3  \n4                                                  3  \n5                                                  3  \n\n[5 rows x 25 columns]",
      "text/html": "<div>\n<style scoped>\n    .dataframe tbody tr th:only-of-type {\n        vertical-align: middle;\n    }\n\n    .dataframe tbody tr th {\n        vertical-align: top;\n    }\n\n    .dataframe thead th {\n        text-align: right;\n    }\n</style>\n<table border=\"1\" class=\"dataframe\">\n  <thead>\n    <tr style=\"text-align: right;\">\n      <th></th>\n      <th>COUNT(transactions)</th>\n      <th>MAX(transactions.amount)</th>\n      <th>MEAN(transactions.amount)</th>\n      <th>MIN(transactions.amount)</th>\n      <th>SKEW(transactions.amount)</th>\n      <th>STD(transactions.amount)</th>\n      <th>SUM(transactions.amount)</th>\n      <th>MODE(transactions.DAY(birthday))</th>\n      <th>MODE(transactions.DAY(transaction_time))</th>\n      <th>MODE(transactions.MONTH(birthday))</th>\n      <th>...</th>\n      <th>MODE(transactions.sessions.device)</th>\n      <th>NUM_UNIQUE(transactions.DAY(birthday))</th>\n      <th>NUM_UNIQUE(transactions.DAY(transaction_time))</th>\n      <th>NUM_UNIQUE(transactions.MONTH(birthday))</th>\n      <th>NUM_UNIQUE(transactions.MONTH(transaction_time))</th>\n      <th>NUM_UNIQUE(transactions.WEEKDAY(birthday))</th>\n      <th>NUM_UNIQUE(transactions.WEEKDAY(transaction_time))</th>\n      <th>NUM_UNIQUE(transactions.YEAR(birthday))</th>\n      <th>NUM_UNIQUE(transactions.YEAR(transaction_time))</th>\n      <th>NUM_UNIQUE(transactions.sessions.device)</th>\n    </tr>\n    <tr>\n      <th>product_id</th>\n      <th></th>\n      <th></th>\n      <th></th>\n      <th></th>\n      <th></th>\n      <th></th>\n      <th></th>\n      <th></th>\n      <th></th>\n      <th></th>\n      <th></th>\n      <th></th>\n      <th></th>\n      <th></th>\n      <th></th>\n      <th></th>\n      <th></th>\n      <th></th>\n      <th></th>\n      <th></th>\n      <th></th>\n    </tr>\n  </thead>\n  <tbody>\n    <tr>\n      <th>1</th>\n      <td>102</td>\n      <td>149.56</td>\n      <td>73.429314</td>\n      <td>6.84</td>\n      <td>0.125525</td>\n      <td>42.479989</td>\n      <td>7489.79</td>\n      <td>18</td>\n      <td>1</td>\n      <td>7</td>\n      <td>...</td>\n      <td>desktop</td>\n      <td>4</td>\n      <td>1</td>\n      <td>3</td>\n      <td>1</td>\n      <td>4</td>\n      <td>1</td>\n      <td>5</td>\n      <td>1</td>\n      <td>3</td>\n    </tr>\n    <tr>\n      <th>2</th>\n      <td>92</td>\n      <td>149.95</td>\n      <td>76.319891</td>\n      <td>5.73</td>\n      <td>0.151934</td>\n      <td>46.336308</td>\n      <td>7021.43</td>\n      <td>18</td>\n      <td>1</td>\n      <td>8</td>\n      <td>...</td>\n      <td>desktop</td>\n      <td>4</td>\n      <td>1</td>\n      <td>3</td>\n      <td>1</td>\n      <td>4</td>\n      <td>1</td>\n      <td>5</td>\n      <td>1</td>\n      <td>3</td>\n    </tr>\n    <tr>\n      <th>3</th>\n      <td>96</td>\n      <td>148.31</td>\n      <td>73.001250</td>\n      <td>5.89</td>\n      <td>0.223938</td>\n      <td>38.871405</td>\n      <td>7008.12</td>\n      <td>18</td>\n      <td>1</td>\n      <td>8</td>\n      <td>...</td>\n      <td>desktop</td>\n      <td>4</td>\n      <td>1</td>\n      <td>3</td>\n      <td>1</td>\n      <td>4</td>\n      <td>1</td>\n      <td>5</td>\n      <td>1</td>\n      <td>3</td>\n    </tr>\n    <tr>\n      <th>4</th>\n      <td>106</td>\n      <td>146.46</td>\n      <td>76.311038</td>\n      <td>5.81</td>\n      <td>-0.132077</td>\n      <td>42.492501</td>\n      <td>8088.97</td>\n      <td>18</td>\n      <td>1</td>\n      <td>7</td>\n      <td>...</td>\n      <td>desktop</td>\n      <td>4</td>\n      <td>1</td>\n      <td>3</td>\n      <td>1</td>\n      <td>4</td>\n      <td>1</td>\n      <td>5</td>\n      <td>1</td>\n      <td>3</td>\n    </tr>\n    <tr>\n      <th>5</th>\n      <td>104</td>\n      <td>149.02</td>\n      <td>76.264904</td>\n      <td>5.91</td>\n      <td>0.098248</td>\n      <td>42.131902</td>\n      <td>7931.55</td>\n      <td>18</td>\n      <td>1</td>\n      <td>7</td>\n      <td>...</td>\n      <td>mobile</td>\n      <td>4</td>\n      <td>1</td>\n      <td>3</td>\n      <td>1</td>\n      <td>4</td>\n      <td>1</td>\n      <td>5</td>\n      <td>1</td>\n      <td>3</td>\n    </tr>\n  </tbody>\n</table>\n<p>5 rows × 25 columns</p>\n</div>"
     },
     "execution_count": 34,
     "metadata": {},
     "output_type": "execute_result"
    }
   ],
   "source": [
    "feature_matrix, feature_defs = ft.dfs(entityset=es, target_dataframe_name=\"products\")\n",
    "\n",
    "feature_matrix"
   ],
   "metadata": {
    "collapsed": false,
    "ExecuteTime": {
     "end_time": "2023-07-01T21:04:51.642074500Z",
     "start_time": "2023-07-01T21:04:51.410048Z"
    }
   }
  },
  {
   "cell_type": "markdown",
   "source": [
    "# DFS"
   ],
   "metadata": {
    "collapsed": false
   }
  },
  {
   "cell_type": "code",
   "execution_count": 1,
   "outputs": [
    {
     "data": {
      "text/plain": "Entityset: transactions\n  DataFrames:\n    transactions [Rows: 500, Columns: 6]\n    products [Rows: 5, Columns: 3]\n    sessions [Rows: 35, Columns: 5]\n    customers [Rows: 5, Columns: 5]\n  Relationships:\n    transactions.product_id -> products.product_id\n    transactions.session_id -> sessions.session_id\n    sessions.customer_id -> customers.customer_id"
     },
     "execution_count": 1,
     "metadata": {},
     "output_type": "execute_result"
    }
   ],
   "source": [
    "import featuretools as ft\n",
    "\n",
    "es = ft.demo.load_mock_customer(return_entityset=True)\n",
    "es"
   ],
   "metadata": {
    "collapsed": false,
    "ExecuteTime": {
     "end_time": "2023-07-04T19:24:57.558592200Z",
     "start_time": "2023-07-04T19:24:38.530236300Z"
    }
   }
  },
  {
   "cell_type": "code",
   "execution_count": 7,
   "outputs": [
    {
     "data": {
      "text/plain": "   customer_id zip_code           join_date   birthday       _ft_last_time\n5            5    60091 2010-07-17 05:27:50 1984-07-28 2014-01-01 08:09:40\n4            4    60091 2011-04-08 20:08:14 2006-08-15 2014-01-01 05:31:30\n1            1    60091 2011-04-17 10:48:33 1994-07-18 2014-01-01 07:26:20\n3            3    13244 2011-08-13 15:42:34 2003-11-21 2014-01-01 09:00:35\n2            2    13244 2012-04-15 23:31:04 1986-08-18 2014-01-01 08:23:45",
      "text/html": "<div>\n<style scoped>\n    .dataframe tbody tr th:only-of-type {\n        vertical-align: middle;\n    }\n\n    .dataframe tbody tr th {\n        vertical-align: top;\n    }\n\n    .dataframe thead th {\n        text-align: right;\n    }\n</style>\n<table border=\"1\" class=\"dataframe\">\n  <thead>\n    <tr style=\"text-align: right;\">\n      <th></th>\n      <th>customer_id</th>\n      <th>zip_code</th>\n      <th>join_date</th>\n      <th>birthday</th>\n      <th>_ft_last_time</th>\n    </tr>\n  </thead>\n  <tbody>\n    <tr>\n      <th>5</th>\n      <td>5</td>\n      <td>60091</td>\n      <td>2010-07-17 05:27:50</td>\n      <td>1984-07-28</td>\n      <td>2014-01-01 08:09:40</td>\n    </tr>\n    <tr>\n      <th>4</th>\n      <td>4</td>\n      <td>60091</td>\n      <td>2011-04-08 20:08:14</td>\n      <td>2006-08-15</td>\n      <td>2014-01-01 05:31:30</td>\n    </tr>\n    <tr>\n      <th>1</th>\n      <td>1</td>\n      <td>60091</td>\n      <td>2011-04-17 10:48:33</td>\n      <td>1994-07-18</td>\n      <td>2014-01-01 07:26:20</td>\n    </tr>\n    <tr>\n      <th>3</th>\n      <td>3</td>\n      <td>13244</td>\n      <td>2011-08-13 15:42:34</td>\n      <td>2003-11-21</td>\n      <td>2014-01-01 09:00:35</td>\n    </tr>\n    <tr>\n      <th>2</th>\n      <td>2</td>\n      <td>13244</td>\n      <td>2012-04-15 23:31:04</td>\n      <td>1986-08-18</td>\n      <td>2014-01-01 08:23:45</td>\n    </tr>\n  </tbody>\n</table>\n</div>"
     },
     "execution_count": 7,
     "metadata": {},
     "output_type": "execute_result"
    }
   ],
   "source": [
    "es[\"customers\"]"
   ],
   "metadata": {
    "collapsed": false,
    "ExecuteTime": {
     "end_time": "2023-07-04T19:28:39.043098900Z",
     "start_time": "2023-07-04T19:28:39.010098100Z"
    }
   }
  },
  {
   "cell_type": "markdown",
   "source": [
    "## DFS Primitives"
   ],
   "metadata": {
    "collapsed": false
   }
  },
  {
   "cell_type": "code",
   "execution_count": 6,
   "outputs": [
    {
     "data": {
      "text/plain": "            zip_code  COUNT(sessions) MONTH(birthday) MONTH(join_date)\ncustomer_id                                                           \n5              60091                6               7                7\n4              60091                8               8                4\n1              60091                8               7                4\n3              13244                6              11                8\n2              13244                7               8                4",
      "text/html": "<div>\n<style scoped>\n    .dataframe tbody tr th:only-of-type {\n        vertical-align: middle;\n    }\n\n    .dataframe tbody tr th {\n        vertical-align: top;\n    }\n\n    .dataframe thead th {\n        text-align: right;\n    }\n</style>\n<table border=\"1\" class=\"dataframe\">\n  <thead>\n    <tr style=\"text-align: right;\">\n      <th></th>\n      <th>zip_code</th>\n      <th>COUNT(sessions)</th>\n      <th>MONTH(birthday)</th>\n      <th>MONTH(join_date)</th>\n    </tr>\n    <tr>\n      <th>customer_id</th>\n      <th></th>\n      <th></th>\n      <th></th>\n      <th></th>\n    </tr>\n  </thead>\n  <tbody>\n    <tr>\n      <th>5</th>\n      <td>60091</td>\n      <td>6</td>\n      <td>7</td>\n      <td>7</td>\n    </tr>\n    <tr>\n      <th>4</th>\n      <td>60091</td>\n      <td>8</td>\n      <td>8</td>\n      <td>4</td>\n    </tr>\n    <tr>\n      <th>1</th>\n      <td>60091</td>\n      <td>8</td>\n      <td>7</td>\n      <td>4</td>\n    </tr>\n    <tr>\n      <th>3</th>\n      <td>13244</td>\n      <td>6</td>\n      <td>11</td>\n      <td>8</td>\n    </tr>\n    <tr>\n      <th>2</th>\n      <td>13244</td>\n      <td>7</td>\n      <td>8</td>\n      <td>4</td>\n    </tr>\n  </tbody>\n</table>\n</div>"
     },
     "execution_count": 6,
     "metadata": {},
     "output_type": "execute_result"
    }
   ],
   "source": [
    "feature_matrix, feature_defs = ft.dfs(\n",
    "    entityset=es,\n",
    "    target_dataframe_name=\"customers\",\n",
    "    agg_primitives=[\"count\"],\n",
    "    trans_primitives=[\"month\"],\n",
    "    max_depth=1,\n",
    ")\n",
    "feature_matrix"
   ],
   "metadata": {
    "collapsed": false,
    "ExecuteTime": {
     "end_time": "2023-07-04T19:26:29.219421500Z",
     "start_time": "2023-07-04T19:26:29.160423100Z"
    }
   }
  },
  {
   "cell_type": "markdown",
   "source": [
    "## DFS Depth"
   ],
   "metadata": {
    "collapsed": false
   }
  },
  {
   "cell_type": "code",
   "execution_count": 15,
   "outputs": [
    {
     "data": {
      "text/plain": "            zip_code MODE(sessions.device)  MEAN(transactions.amount)  \\\ncustomer_id                                                             \n5              60091                mobile                  80.375443   \n4              60091                mobile                  80.070459   \n1              60091                mobile                  71.631905   \n3              13244               desktop                  67.060430   \n2              13244               desktop                  77.422366   \n\n            MODE(transactions.product_id)  SUM(transactions.amount)  \\\ncustomer_id                                                           \n5                                       5                   6349.66   \n4                                       2                   8727.68   \n1                                       4                   9025.62   \n3                                       1                   6236.62   \n2                                       4                   7200.28   \n\n            HOUR(birthday) HOUR(join_date) MONTH(birthday) MONTH(join_date)  \\\ncustomer_id                                                                   \n5                        0               5               7                7   \n4                        0              20               8                4   \n1                        0              10               7                4   \n3                        0              15              11                8   \n2                        0              23               8                4   \n\n             MEAN(sessions.MEAN(transactions.amount))  \\\ncustomer_id                                             \n5                                           78.705187   \n4                                           81.207189   \n1                                           72.774140   \n3                                           67.539577   \n2                                           78.415122   \n\n             MEAN(sessions.SUM(transactions.amount))  \\\ncustomer_id                                            \n5                                        1058.276667   \n4                                        1090.960000   \n1                                        1128.202500   \n3                                        1039.436667   \n2                                        1028.611429   \n\n            MODE(sessions.HOUR(session_start))  \\\ncustomer_id                                      \n5                                            0   \n4                                            1   \n1                                            6   \n3                                            5   \n2                                            3   \n\n            MODE(sessions.MODE(transactions.product_id))  \\\ncustomer_id                                                \n5                                                      3   \n4                                                      1   \n1                                                      4   \n3                                                      1   \n2                                                      3   \n\n            MODE(sessions.MONTH(session_start))  \\\ncustomer_id                                       \n5                                             1   \n4                                             1   \n1                                             1   \n3                                             1   \n2                                             1   \n\n             SUM(sessions.MEAN(transactions.amount))  \\\ncustomer_id                                            \n5                                         472.231119   \n4                                         649.657515   \n1                                         582.193117   \n3                                         405.237462   \n2                                         548.905851   \n\n            MODE(transactions.sessions.device)  \ncustomer_id                                     \n5                                       mobile  \n4                                       mobile  \n1                                       mobile  \n3                                      desktop  \n2                                      desktop  ",
      "text/html": "<div>\n<style scoped>\n    .dataframe tbody tr th:only-of-type {\n        vertical-align: middle;\n    }\n\n    .dataframe tbody tr th {\n        vertical-align: top;\n    }\n\n    .dataframe thead th {\n        text-align: right;\n    }\n</style>\n<table border=\"1\" class=\"dataframe\">\n  <thead>\n    <tr style=\"text-align: right;\">\n      <th></th>\n      <th>zip_code</th>\n      <th>MODE(sessions.device)</th>\n      <th>MEAN(transactions.amount)</th>\n      <th>MODE(transactions.product_id)</th>\n      <th>SUM(transactions.amount)</th>\n      <th>HOUR(birthday)</th>\n      <th>HOUR(join_date)</th>\n      <th>MONTH(birthday)</th>\n      <th>MONTH(join_date)</th>\n      <th>MEAN(sessions.MEAN(transactions.amount))</th>\n      <th>MEAN(sessions.SUM(transactions.amount))</th>\n      <th>MODE(sessions.HOUR(session_start))</th>\n      <th>MODE(sessions.MODE(transactions.product_id))</th>\n      <th>MODE(sessions.MONTH(session_start))</th>\n      <th>SUM(sessions.MEAN(transactions.amount))</th>\n      <th>MODE(transactions.sessions.device)</th>\n    </tr>\n    <tr>\n      <th>customer_id</th>\n      <th></th>\n      <th></th>\n      <th></th>\n      <th></th>\n      <th></th>\n      <th></th>\n      <th></th>\n      <th></th>\n      <th></th>\n      <th></th>\n      <th></th>\n      <th></th>\n      <th></th>\n      <th></th>\n      <th></th>\n      <th></th>\n    </tr>\n  </thead>\n  <tbody>\n    <tr>\n      <th>5</th>\n      <td>60091</td>\n      <td>mobile</td>\n      <td>80.375443</td>\n      <td>5</td>\n      <td>6349.66</td>\n      <td>0</td>\n      <td>5</td>\n      <td>7</td>\n      <td>7</td>\n      <td>78.705187</td>\n      <td>1058.276667</td>\n      <td>0</td>\n      <td>3</td>\n      <td>1</td>\n      <td>472.231119</td>\n      <td>mobile</td>\n    </tr>\n    <tr>\n      <th>4</th>\n      <td>60091</td>\n      <td>mobile</td>\n      <td>80.070459</td>\n      <td>2</td>\n      <td>8727.68</td>\n      <td>0</td>\n      <td>20</td>\n      <td>8</td>\n      <td>4</td>\n      <td>81.207189</td>\n      <td>1090.960000</td>\n      <td>1</td>\n      <td>1</td>\n      <td>1</td>\n      <td>649.657515</td>\n      <td>mobile</td>\n    </tr>\n    <tr>\n      <th>1</th>\n      <td>60091</td>\n      <td>mobile</td>\n      <td>71.631905</td>\n      <td>4</td>\n      <td>9025.62</td>\n      <td>0</td>\n      <td>10</td>\n      <td>7</td>\n      <td>4</td>\n      <td>72.774140</td>\n      <td>1128.202500</td>\n      <td>6</td>\n      <td>4</td>\n      <td>1</td>\n      <td>582.193117</td>\n      <td>mobile</td>\n    </tr>\n    <tr>\n      <th>3</th>\n      <td>13244</td>\n      <td>desktop</td>\n      <td>67.060430</td>\n      <td>1</td>\n      <td>6236.62</td>\n      <td>0</td>\n      <td>15</td>\n      <td>11</td>\n      <td>8</td>\n      <td>67.539577</td>\n      <td>1039.436667</td>\n      <td>5</td>\n      <td>1</td>\n      <td>1</td>\n      <td>405.237462</td>\n      <td>desktop</td>\n    </tr>\n    <tr>\n      <th>2</th>\n      <td>13244</td>\n      <td>desktop</td>\n      <td>77.422366</td>\n      <td>4</td>\n      <td>7200.28</td>\n      <td>0</td>\n      <td>23</td>\n      <td>8</td>\n      <td>4</td>\n      <td>78.415122</td>\n      <td>1028.611429</td>\n      <td>3</td>\n      <td>3</td>\n      <td>1</td>\n      <td>548.905851</td>\n      <td>desktop</td>\n    </tr>\n  </tbody>\n</table>\n</div>"
     },
     "execution_count": 15,
     "metadata": {},
     "output_type": "execute_result"
    }
   ],
   "source": [
    "feature_matrix, feature_defs = ft.dfs(\n",
    "    entityset=es,\n",
    "    target_dataframe_name=\"customers\",\n",
    "    agg_primitives=[\"mean\", \"sum\", \"mode\"],\n",
    "    trans_primitives=[\"month\", \"hour\"],\n",
    "    max_depth=2,\n",
    ")\n",
    "feature_matrix"
   ],
   "metadata": {
    "collapsed": false,
    "ExecuteTime": {
     "end_time": "2023-07-04T19:40:07.099661900Z",
     "start_time": "2023-07-04T19:40:06.995652700Z"
    }
   }
  },
  {
   "cell_type": "code",
   "execution_count": 16,
   "outputs": [
    {
     "data": {
      "text/plain": "Index(['zip_code', 'MODE(sessions.device)', 'MEAN(transactions.amount)',\n       'MODE(transactions.product_id)', 'SUM(transactions.amount)',\n       'HOUR(birthday)', 'HOUR(join_date)', 'MONTH(birthday)',\n       'MONTH(join_date)', 'MEAN(sessions.MEAN(transactions.amount))',\n       'MEAN(sessions.SUM(transactions.amount))',\n       'MODE(sessions.HOUR(session_start))',\n       'MODE(sessions.MODE(transactions.product_id))',\n       'MODE(sessions.MONTH(session_start))',\n       'SUM(sessions.MEAN(transactions.amount))',\n       'MODE(transactions.sessions.device)'],\n      dtype='object')"
     },
     "execution_count": 16,
     "metadata": {},
     "output_type": "execute_result"
    }
   ],
   "source": [
    "feature_matrix.columns"
   ],
   "metadata": {
    "collapsed": false,
    "ExecuteTime": {
     "end_time": "2023-07-04T19:40:12.776266100Z",
     "start_time": "2023-07-04T19:40:12.752268200Z"
    }
   }
  },
  {
   "cell_type": "markdown",
   "source": [
    "## DFS Change Target"
   ],
   "metadata": {
    "collapsed": false
   }
  },
  {
   "cell_type": "code",
   "execution_count": 17,
   "outputs": [
    {
     "data": {
      "text/plain": "            customer_id   device  MEAN(transactions.amount)  \\\nsession_id                                                    \n1                     2  desktop                  76.813125   \n2                     5   mobile                  74.696000   \n3                     4   mobile                  88.600000   \n4                     1   mobile                  64.557200   \n5                     4   mobile                  70.638182   \n\n           MODE(transactions.product_id)  SUM(transactions.amount)  \\\nsession_id                                                           \n1                                      3                   1229.01   \n2                                      5                    746.96   \n3                                      1                   1329.00   \n4                                      5                   1613.93   \n5                                      5                    777.02   \n\n           HOUR(session_start) MONTH(session_start) customers.zip_code  \\\nsession_id                                                               \n1                            0                    1              13244   \n2                            0                    1              60091   \n3                            0                    1              60091   \n4                            0                    1              60091   \n5                            1                    1              60091   \n\n           MODE(transactions.HOUR(transaction_time))  \\\nsession_id                                             \n1                                                  0   \n2                                                  0   \n3                                                  0   \n4                                                  0   \n5                                                  1   \n\n           MODE(transactions.MONTH(transaction_time))  \\\nsession_id                                              \n1                                                   1   \n2                                                   1   \n3                                                   1   \n4                                                   1   \n5                                                   1   \n\n           customers.MODE(sessions.device)  \\\nsession_id                                   \n1                                  desktop   \n2                                   mobile   \n3                                   mobile   \n4                                   mobile   \n5                                   mobile   \n\n            customers.MEAN(transactions.amount)  \\\nsession_id                                        \n1                                     77.422366   \n2                                     80.375443   \n3                                     80.070459   \n4                                     71.631905   \n5                                     80.070459   \n\n           customers.MODE(transactions.product_id)  \\\nsession_id                                           \n1                                                4   \n2                                                5   \n3                                                2   \n4                                                4   \n5                                                2   \n\n            customers.SUM(transactions.amount) customers.HOUR(birthday)  \\\nsession_id                                                                \n1                                      7200.28                        0   \n2                                      6349.66                        0   \n3                                      8727.68                        0   \n4                                      9025.62                        0   \n5                                      8727.68                        0   \n\n           customers.HOUR(join_date) customers.MONTH(birthday)  \\\nsession_id                                                       \n1                                 23                         8   \n2                                  5                         7   \n3                                 20                         8   \n4                                 10                         7   \n5                                 20                         8   \n\n           customers.MONTH(join_date)  \nsession_id                             \n1                                   4  \n2                                   7  \n3                                   4  \n4                                   4  \n5                                   4  ",
      "text/html": "<div>\n<style scoped>\n    .dataframe tbody tr th:only-of-type {\n        vertical-align: middle;\n    }\n\n    .dataframe tbody tr th {\n        vertical-align: top;\n    }\n\n    .dataframe thead th {\n        text-align: right;\n    }\n</style>\n<table border=\"1\" class=\"dataframe\">\n  <thead>\n    <tr style=\"text-align: right;\">\n      <th></th>\n      <th>customer_id</th>\n      <th>device</th>\n      <th>MEAN(transactions.amount)</th>\n      <th>MODE(transactions.product_id)</th>\n      <th>SUM(transactions.amount)</th>\n      <th>HOUR(session_start)</th>\n      <th>MONTH(session_start)</th>\n      <th>customers.zip_code</th>\n      <th>MODE(transactions.HOUR(transaction_time))</th>\n      <th>MODE(transactions.MONTH(transaction_time))</th>\n      <th>customers.MODE(sessions.device)</th>\n      <th>customers.MEAN(transactions.amount)</th>\n      <th>customers.MODE(transactions.product_id)</th>\n      <th>customers.SUM(transactions.amount)</th>\n      <th>customers.HOUR(birthday)</th>\n      <th>customers.HOUR(join_date)</th>\n      <th>customers.MONTH(birthday)</th>\n      <th>customers.MONTH(join_date)</th>\n    </tr>\n    <tr>\n      <th>session_id</th>\n      <th></th>\n      <th></th>\n      <th></th>\n      <th></th>\n      <th></th>\n      <th></th>\n      <th></th>\n      <th></th>\n      <th></th>\n      <th></th>\n      <th></th>\n      <th></th>\n      <th></th>\n      <th></th>\n      <th></th>\n      <th></th>\n      <th></th>\n      <th></th>\n    </tr>\n  </thead>\n  <tbody>\n    <tr>\n      <th>1</th>\n      <td>2</td>\n      <td>desktop</td>\n      <td>76.813125</td>\n      <td>3</td>\n      <td>1229.01</td>\n      <td>0</td>\n      <td>1</td>\n      <td>13244</td>\n      <td>0</td>\n      <td>1</td>\n      <td>desktop</td>\n      <td>77.422366</td>\n      <td>4</td>\n      <td>7200.28</td>\n      <td>0</td>\n      <td>23</td>\n      <td>8</td>\n      <td>4</td>\n    </tr>\n    <tr>\n      <th>2</th>\n      <td>5</td>\n      <td>mobile</td>\n      <td>74.696000</td>\n      <td>5</td>\n      <td>746.96</td>\n      <td>0</td>\n      <td>1</td>\n      <td>60091</td>\n      <td>0</td>\n      <td>1</td>\n      <td>mobile</td>\n      <td>80.375443</td>\n      <td>5</td>\n      <td>6349.66</td>\n      <td>0</td>\n      <td>5</td>\n      <td>7</td>\n      <td>7</td>\n    </tr>\n    <tr>\n      <th>3</th>\n      <td>4</td>\n      <td>mobile</td>\n      <td>88.600000</td>\n      <td>1</td>\n      <td>1329.00</td>\n      <td>0</td>\n      <td>1</td>\n      <td>60091</td>\n      <td>0</td>\n      <td>1</td>\n      <td>mobile</td>\n      <td>80.070459</td>\n      <td>2</td>\n      <td>8727.68</td>\n      <td>0</td>\n      <td>20</td>\n      <td>8</td>\n      <td>4</td>\n    </tr>\n    <tr>\n      <th>4</th>\n      <td>1</td>\n      <td>mobile</td>\n      <td>64.557200</td>\n      <td>5</td>\n      <td>1613.93</td>\n      <td>0</td>\n      <td>1</td>\n      <td>60091</td>\n      <td>0</td>\n      <td>1</td>\n      <td>mobile</td>\n      <td>71.631905</td>\n      <td>4</td>\n      <td>9025.62</td>\n      <td>0</td>\n      <td>10</td>\n      <td>7</td>\n      <td>4</td>\n    </tr>\n    <tr>\n      <th>5</th>\n      <td>4</td>\n      <td>mobile</td>\n      <td>70.638182</td>\n      <td>5</td>\n      <td>777.02</td>\n      <td>1</td>\n      <td>1</td>\n      <td>60091</td>\n      <td>1</td>\n      <td>1</td>\n      <td>mobile</td>\n      <td>80.070459</td>\n      <td>2</td>\n      <td>8727.68</td>\n      <td>0</td>\n      <td>20</td>\n      <td>8</td>\n      <td>4</td>\n    </tr>\n  </tbody>\n</table>\n</div>"
     },
     "execution_count": 17,
     "metadata": {},
     "output_type": "execute_result"
    }
   ],
   "source": [
    "feature_matrix, feature_defs = ft.dfs(\n",
    "    entityset=es,\n",
    "    target_dataframe_name=\"sessions\",\n",
    "    agg_primitives=[\"mean\", \"sum\", \"mode\"],\n",
    "    trans_primitives=[\"month\", \"hour\"],\n",
    "    max_depth=2,\n",
    ")\n",
    "feature_matrix.head(5)"
   ],
   "metadata": {
    "collapsed": false,
    "ExecuteTime": {
     "end_time": "2023-07-04T19:42:27.101357700Z",
     "start_time": "2023-07-04T19:42:26.990593900Z"
    }
   }
  },
  {
   "cell_type": "code",
   "execution_count": null,
   "outputs": [],
   "source": [],
   "metadata": {
    "collapsed": false
   }
  }
 ],
 "metadata": {
  "kernelspec": {
   "name": "py310",
   "language": "python",
   "display_name": "py310"
  },
  "language_info": {
   "codemirror_mode": {
    "name": "ipython",
    "version": 2
   },
   "file_extension": ".py",
   "mimetype": "text/x-python",
   "name": "python",
   "nbconvert_exporter": "python",
   "pygments_lexer": "ipython2",
   "version": "2.7.6"
  }
 },
 "nbformat": 4,
 "nbformat_minor": 0
}
