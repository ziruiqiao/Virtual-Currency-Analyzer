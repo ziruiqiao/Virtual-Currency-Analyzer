{
 "cells": [
  {
   "cell_type": "code",
   "execution_count": 54,
   "outputs": [],
   "source": [
    "import pandas as pd\n",
    "import os\n",
    "from mike_config import TFrame, crypto_lst, time_frame"
   ],
   "metadata": {
    "collapsed": false,
    "ExecuteTime": {
     "end_time": "2023-06-20T18:19:37.226566600Z",
     "start_time": "2023-06-20T18:19:37.201570400Z"
    }
   }
  },
  {
   "cell_type": "code",
   "execution_count": 55,
   "outputs": [],
   "source": [
    "def read_csv(symbol: str, timestamp: str):\n",
    "    dir_path = 'D:/GitHub/tryStock/data/' + symbol.replace(\"/\", \"\") + '/' + timestamp + '/'\n",
    "    print(f\"Working on {dir_path}...\")\n",
    "    file_list = os.listdir(dir_path)\n",
    "    df = pd.DataFrame()\n",
    "    for f in file_list:\n",
    "        if f == \"featured.csv\":\n",
    "            continue\n",
    "        if len(df) == 0:\n",
    "            df = pd.read_csv(dir_path + f)\n",
    "        else:\n",
    "            df = pd.concat([df, pd.read_csv(dir_path + f)])\n",
    "    return df\n",
    "\n",
    "\n",
    "def remove_date(df: pd.DataFrame):\n",
    "    df_filtered = df.filter(regex=r'^(?!.*date).*$')\n",
    "    return df_filtered"
   ],
   "metadata": {
    "collapsed": false,
    "ExecuteTime": {
     "end_time": "2023-06-20T18:19:37.247568Z",
     "start_time": "2023-06-20T18:19:37.226566600Z"
    }
   }
  },
  {
   "cell_type": "code",
   "execution_count": 56,
   "outputs": [],
   "source": [
    "def calc_data(df: pd.DataFrame, name: str):\n",
    "    temp = df.filter(like=name, axis=1)\n",
    "    columns = temp.iloc[:, :temp.shape[1] * 4 // 5].columns\n",
    "    row_mean = df[columns].mean(axis=1)\n",
    "    row_median = df[columns].median(axis=1)\n",
    "    row_std = df[columns].std(axis=1)\n",
    "    row_var = df[columns].var(axis=1)\n",
    "    row_max = df[columns].max(axis=1)\n",
    "    row_min = df[columns].min(axis=1)\n",
    "    percentile_25 = df[columns].quantile(0.25, axis=1)\n",
    "    percentile_75 = df[columns].quantile(0.75, axis=1)\n",
    "    place = df.shape[1] * 4 // 5\n",
    "    df.insert(place, name + '_mean',  row_mean.tolist())\n",
    "    df.insert(place, name + '_median',  row_median.tolist())\n",
    "    df.insert(place, name + '_std',  row_std.tolist())\n",
    "    df.insert(place, name + '_var',  row_var.tolist())\n",
    "    df.insert(place, name + '_max',  row_max.tolist())\n",
    "    df.insert(place, name + '_min',  row_min.tolist())\n",
    "    df.insert(place, name + '_25p',  percentile_25.tolist())\n",
    "    df.insert(place, name + '_75p',  percentile_75.tolist())\n",
    "    return df"
   ],
   "metadata": {
    "collapsed": false,
    "ExecuteTime": {
     "end_time": "2023-06-20T18:19:37.247568Z",
     "start_time": "2023-06-20T18:19:37.233566500Z"
    }
   }
  },
  {
   "cell_type": "code",
   "execution_count": 57,
   "outputs": [],
   "source": [
    "def store_file(symbol: str, timestamp: str, df: pd.DataFrame):\n",
    "    actual_path = 'D:/GitHub/tryStock/data/' + symbol.replace(\"/\", \"\") + '/' + timestamp + '/featured.csv'\n",
    "    if os.path.isfile(actual_path):\n",
    "        os.remove(actual_path)\n",
    "        print(\"CSV file removed.\")\n",
    "    df.to_csv(actual_path, index=False)\n",
    "    print(f\"CSV file created successfully. --- {actual_path}\")"
   ],
   "metadata": {
    "collapsed": false,
    "ExecuteTime": {
     "end_time": "2023-06-20T18:19:37.259485400Z",
     "start_time": "2023-06-20T18:19:37.246568100Z"
    }
   }
  },
  {
   "cell_type": "code",
   "execution_count": 64,
   "outputs": [],
   "source": [
    "def main():\n",
    "    for s in crypto_lst:\n",
    "        for t in [obj.name for obj in time_frame]:\n",
    "            df = read_csv(s, t)\n",
    "            df_without_date = remove_date(df)\n",
    "            for n in ['open', 'high', 'low', 'close', 'volume']:\n",
    "                df_without_date = calc_data(df_without_date, n)\n",
    "            # Shuffle the DataFrame\n",
    "            shuffled_df = df_without_date.sample(frac=1, random_state=42)\n",
    "            # Reset the index of the shuffled DataFrame\n",
    "            shuffled_df = shuffled_df.reset_index(drop=True)\n",
    "            store_file(s, t, shuffled_df)\n",
    "            del df, df_without_date, shuffled_df"
   ],
   "metadata": {
    "collapsed": false,
    "ExecuteTime": {
     "end_time": "2023-06-20T18:24:58.629901500Z",
     "start_time": "2023-06-20T18:24:58.614902100Z"
    }
   }
  },
  {
   "cell_type": "code",
   "execution_count": 65,
   "outputs": [
    {
     "name": "stdout",
     "output_type": "stream",
     "text": [
      "Working on D:/GitHub/tryStock/data/BTCUSDT/5m/...\n",
      "CSV file removed.\n",
      "CSV file created successfully. --- D:/GitHub/tryStock/data/BTCUSDT/5m/featured.csv\n",
      "Working on D:/GitHub/tryStock/data/BTCUSDT/15m/...\n",
      "CSV file removed.\n",
      "CSV file created successfully. --- D:/GitHub/tryStock/data/BTCUSDT/15m/featured.csv\n",
      "Working on D:/GitHub/tryStock/data/BTCUSDT/30m/...\n",
      "CSV file removed.\n",
      "CSV file created successfully. --- D:/GitHub/tryStock/data/BTCUSDT/30m/featured.csv\n",
      "Working on D:/GitHub/tryStock/data/ETHUSDT/5m/...\n",
      "CSV file removed.\n",
      "CSV file created successfully. --- D:/GitHub/tryStock/data/ETHUSDT/5m/featured.csv\n",
      "Working on D:/GitHub/tryStock/data/ETHUSDT/15m/...\n",
      "CSV file removed.\n",
      "CSV file created successfully. --- D:/GitHub/tryStock/data/ETHUSDT/15m/featured.csv\n",
      "Working on D:/GitHub/tryStock/data/ETHUSDT/30m/...\n",
      "CSV file removed.\n",
      "CSV file created successfully. --- D:/GitHub/tryStock/data/ETHUSDT/30m/featured.csv\n",
      "Working on D:/GitHub/tryStock/data/BNBUSDT/5m/...\n",
      "CSV file removed.\n",
      "CSV file created successfully. --- D:/GitHub/tryStock/data/BNBUSDT/5m/featured.csv\n",
      "Working on D:/GitHub/tryStock/data/BNBUSDT/15m/...\n",
      "CSV file removed.\n",
      "CSV file created successfully. --- D:/GitHub/tryStock/data/BNBUSDT/15m/featured.csv\n",
      "Working on D:/GitHub/tryStock/data/BNBUSDT/30m/...\n",
      "CSV file removed.\n",
      "CSV file created successfully. --- D:/GitHub/tryStock/data/BNBUSDT/30m/featured.csv\n",
      "Working on D:/GitHub/tryStock/data/XRPUSDT/5m/...\n",
      "CSV file removed.\n",
      "CSV file created successfully. --- D:/GitHub/tryStock/data/XRPUSDT/5m/featured.csv\n",
      "Working on D:/GitHub/tryStock/data/XRPUSDT/15m/...\n",
      "CSV file removed.\n",
      "CSV file created successfully. --- D:/GitHub/tryStock/data/XRPUSDT/15m/featured.csv\n",
      "Working on D:/GitHub/tryStock/data/XRPUSDT/30m/...\n",
      "CSV file removed.\n",
      "CSV file created successfully. --- D:/GitHub/tryStock/data/XRPUSDT/30m/featured.csv\n",
      "Working on D:/GitHub/tryStock/data/ADAUSDT/5m/...\n",
      "CSV file removed.\n",
      "CSV file created successfully. --- D:/GitHub/tryStock/data/ADAUSDT/5m/featured.csv\n",
      "Working on D:/GitHub/tryStock/data/ADAUSDT/15m/...\n",
      "CSV file removed.\n",
      "CSV file created successfully. --- D:/GitHub/tryStock/data/ADAUSDT/15m/featured.csv\n",
      "Working on D:/GitHub/tryStock/data/ADAUSDT/30m/...\n",
      "CSV file removed.\n",
      "CSV file created successfully. --- D:/GitHub/tryStock/data/ADAUSDT/30m/featured.csv\n",
      "Working on D:/GitHub/tryStock/data/DOGEUSDT/5m/...\n",
      "CSV file removed.\n",
      "CSV file created successfully. --- D:/GitHub/tryStock/data/DOGEUSDT/5m/featured.csv\n",
      "Working on D:/GitHub/tryStock/data/DOGEUSDT/15m/...\n",
      "CSV file removed.\n",
      "CSV file created successfully. --- D:/GitHub/tryStock/data/DOGEUSDT/15m/featured.csv\n",
      "Working on D:/GitHub/tryStock/data/DOGEUSDT/30m/...\n",
      "CSV file removed.\n",
      "CSV file created successfully. --- D:/GitHub/tryStock/data/DOGEUSDT/30m/featured.csv\n",
      "Working on D:/GitHub/tryStock/data/MATICUSDT/5m/...\n",
      "CSV file removed.\n",
      "CSV file created successfully. --- D:/GitHub/tryStock/data/MATICUSDT/5m/featured.csv\n",
      "Working on D:/GitHub/tryStock/data/MATICUSDT/15m/...\n",
      "CSV file removed.\n",
      "CSV file created successfully. --- D:/GitHub/tryStock/data/MATICUSDT/15m/featured.csv\n",
      "Working on D:/GitHub/tryStock/data/MATICUSDT/30m/...\n",
      "CSV file removed.\n",
      "CSV file created successfully. --- D:/GitHub/tryStock/data/MATICUSDT/30m/featured.csv\n",
      "Working on D:/GitHub/tryStock/data/SOLUSDT/5m/...\n",
      "CSV file removed.\n",
      "CSV file created successfully. --- D:/GitHub/tryStock/data/SOLUSDT/5m/featured.csv\n",
      "Working on D:/GitHub/tryStock/data/SOLUSDT/15m/...\n",
      "CSV file removed.\n",
      "CSV file created successfully. --- D:/GitHub/tryStock/data/SOLUSDT/15m/featured.csv\n",
      "Working on D:/GitHub/tryStock/data/SOLUSDT/30m/...\n",
      "CSV file removed.\n",
      "CSV file created successfully. --- D:/GitHub/tryStock/data/SOLUSDT/30m/featured.csv\n"
     ]
    }
   ],
   "source": [
    "main()"
   ],
   "metadata": {
    "collapsed": false,
    "ExecuteTime": {
     "end_time": "2023-06-20T18:42:16.396735900Z",
     "start_time": "2023-06-20T18:25:00.846386200Z"
    }
   }
  }
 ],
 "metadata": {
  "kernelspec": {
   "name": "python3",
   "language": "python",
   "display_name": "Python 3 (ipykernel)"
  }
 },
 "nbformat": 4,
 "nbformat_minor": 5
}
