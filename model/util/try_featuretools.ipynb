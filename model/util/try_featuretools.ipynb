{
 "cells": [
  {
   "cell_type": "code",
   "execution_count": 1,
   "metadata": {
    "collapsed": true,
    "ExecuteTime": {
     "end_time": "2023-06-22T21:44:31.979022300Z",
     "start_time": "2023-06-22T21:44:29.751823600Z"
    }
   },
   "outputs": [],
   "source": [
    "import featuretools as ft\n",
    "import pandas as pd"
   ]
  },
  {
   "cell_type": "code",
   "execution_count": 2,
   "outputs": [
    {
     "data": {
      "text/plain": "     transaction_id  session_id    transaction_time product_id  amount  \\\n264             380          21 2014-01-01 05:14:10          5   57.09   \n19              244          10 2014-01-01 02:34:55          2  116.95   \n314             299           6 2014-01-01 01:32:05          4   64.99   \n290              78           4 2014-01-01 00:54:10          1   37.50   \n379             457          27 2014-01-01 06:37:35          1   19.16   \n335             477           9 2014-01-01 02:30:35          3   41.70   \n293             103           4 2014-01-01 00:57:25          5   20.79   \n271             390          22 2014-01-01 05:21:45          2   54.83   \n404             476          29 2014-01-01 07:24:10          4  121.59   \n179              90           3 2014-01-01 00:35:45          1   75.73   \n\n     customer_id   device       session_start zip_code           join_date  \\\n264            4  desktop 2014-01-01 05:02:15    60091 2011-04-08 20:08:14   \n19             2   tablet 2014-01-01 02:31:40    13244 2012-04-15 23:31:04   \n314            1   tablet 2014-01-01 01:23:25    60091 2011-04-17 10:48:33   \n290            1   mobile 2014-01-01 00:44:25    60091 2011-04-17 10:48:33   \n379            1   mobile 2014-01-01 06:34:20    60091 2011-04-17 10:48:33   \n335            1  desktop 2014-01-01 02:15:25    60091 2011-04-17 10:48:33   \n293            1   mobile 2014-01-01 00:44:25    60091 2011-04-17 10:48:33   \n271            4  desktop 2014-01-01 05:21:45    60091 2011-04-08 20:08:14   \n404            1   mobile 2014-01-01 07:10:05    60091 2011-04-17 10:48:33   \n179            4   mobile 2014-01-01 00:28:10    60091 2011-04-08 20:08:14   \n\n      birthday  \n264 2006-08-15  \n19  1986-08-18  \n314 1994-07-18  \n290 1994-07-18  \n379 1994-07-18  \n335 1994-07-18  \n293 1994-07-18  \n271 2006-08-15  \n404 1994-07-18  \n179 2006-08-15  ",
      "text/html": "<div>\n<style scoped>\n    .dataframe tbody tr th:only-of-type {\n        vertical-align: middle;\n    }\n\n    .dataframe tbody tr th {\n        vertical-align: top;\n    }\n\n    .dataframe thead th {\n        text-align: right;\n    }\n</style>\n<table border=\"1\" class=\"dataframe\">\n  <thead>\n    <tr style=\"text-align: right;\">\n      <th></th>\n      <th>transaction_id</th>\n      <th>session_id</th>\n      <th>transaction_time</th>\n      <th>product_id</th>\n      <th>amount</th>\n      <th>customer_id</th>\n      <th>device</th>\n      <th>session_start</th>\n      <th>zip_code</th>\n      <th>join_date</th>\n      <th>birthday</th>\n    </tr>\n  </thead>\n  <tbody>\n    <tr>\n      <th>264</th>\n      <td>380</td>\n      <td>21</td>\n      <td>2014-01-01 05:14:10</td>\n      <td>5</td>\n      <td>57.09</td>\n      <td>4</td>\n      <td>desktop</td>\n      <td>2014-01-01 05:02:15</td>\n      <td>60091</td>\n      <td>2011-04-08 20:08:14</td>\n      <td>2006-08-15</td>\n    </tr>\n    <tr>\n      <th>19</th>\n      <td>244</td>\n      <td>10</td>\n      <td>2014-01-01 02:34:55</td>\n      <td>2</td>\n      <td>116.95</td>\n      <td>2</td>\n      <td>tablet</td>\n      <td>2014-01-01 02:31:40</td>\n      <td>13244</td>\n      <td>2012-04-15 23:31:04</td>\n      <td>1986-08-18</td>\n    </tr>\n    <tr>\n      <th>314</th>\n      <td>299</td>\n      <td>6</td>\n      <td>2014-01-01 01:32:05</td>\n      <td>4</td>\n      <td>64.99</td>\n      <td>1</td>\n      <td>tablet</td>\n      <td>2014-01-01 01:23:25</td>\n      <td>60091</td>\n      <td>2011-04-17 10:48:33</td>\n      <td>1994-07-18</td>\n    </tr>\n    <tr>\n      <th>290</th>\n      <td>78</td>\n      <td>4</td>\n      <td>2014-01-01 00:54:10</td>\n      <td>1</td>\n      <td>37.50</td>\n      <td>1</td>\n      <td>mobile</td>\n      <td>2014-01-01 00:44:25</td>\n      <td>60091</td>\n      <td>2011-04-17 10:48:33</td>\n      <td>1994-07-18</td>\n    </tr>\n    <tr>\n      <th>379</th>\n      <td>457</td>\n      <td>27</td>\n      <td>2014-01-01 06:37:35</td>\n      <td>1</td>\n      <td>19.16</td>\n      <td>1</td>\n      <td>mobile</td>\n      <td>2014-01-01 06:34:20</td>\n      <td>60091</td>\n      <td>2011-04-17 10:48:33</td>\n      <td>1994-07-18</td>\n    </tr>\n    <tr>\n      <th>335</th>\n      <td>477</td>\n      <td>9</td>\n      <td>2014-01-01 02:30:35</td>\n      <td>3</td>\n      <td>41.70</td>\n      <td>1</td>\n      <td>desktop</td>\n      <td>2014-01-01 02:15:25</td>\n      <td>60091</td>\n      <td>2011-04-17 10:48:33</td>\n      <td>1994-07-18</td>\n    </tr>\n    <tr>\n      <th>293</th>\n      <td>103</td>\n      <td>4</td>\n      <td>2014-01-01 00:57:25</td>\n      <td>5</td>\n      <td>20.79</td>\n      <td>1</td>\n      <td>mobile</td>\n      <td>2014-01-01 00:44:25</td>\n      <td>60091</td>\n      <td>2011-04-17 10:48:33</td>\n      <td>1994-07-18</td>\n    </tr>\n    <tr>\n      <th>271</th>\n      <td>390</td>\n      <td>22</td>\n      <td>2014-01-01 05:21:45</td>\n      <td>2</td>\n      <td>54.83</td>\n      <td>4</td>\n      <td>desktop</td>\n      <td>2014-01-01 05:21:45</td>\n      <td>60091</td>\n      <td>2011-04-08 20:08:14</td>\n      <td>2006-08-15</td>\n    </tr>\n    <tr>\n      <th>404</th>\n      <td>476</td>\n      <td>29</td>\n      <td>2014-01-01 07:24:10</td>\n      <td>4</td>\n      <td>121.59</td>\n      <td>1</td>\n      <td>mobile</td>\n      <td>2014-01-01 07:10:05</td>\n      <td>60091</td>\n      <td>2011-04-17 10:48:33</td>\n      <td>1994-07-18</td>\n    </tr>\n    <tr>\n      <th>179</th>\n      <td>90</td>\n      <td>3</td>\n      <td>2014-01-01 00:35:45</td>\n      <td>1</td>\n      <td>75.73</td>\n      <td>4</td>\n      <td>mobile</td>\n      <td>2014-01-01 00:28:10</td>\n      <td>60091</td>\n      <td>2011-04-08 20:08:14</td>\n      <td>2006-08-15</td>\n    </tr>\n  </tbody>\n</table>\n</div>"
     },
     "execution_count": 2,
     "metadata": {},
     "output_type": "execute_result"
    }
   ],
   "source": [
    "data = ft.demo.load_mock_customer()\n",
    "transactions_df = data[\"transactions\"].merge(data[\"sessions\"]).merge(data[\"customers\"])\n",
    "\n",
    "transactions_df.sample(10)"
   ],
   "metadata": {
    "collapsed": false,
    "ExecuteTime": {
     "end_time": "2023-06-22T21:44:32.028047600Z",
     "start_time": "2023-06-22T21:44:31.982045800Z"
    }
   }
  },
  {
   "cell_type": "code",
   "execution_count": 3,
   "outputs": [
    {
     "data": {
      "text/plain": "  product_id brand\n0          1     B\n1          2     B\n2          3     B\n3          4     B\n4          5     A",
      "text/html": "<div>\n<style scoped>\n    .dataframe tbody tr th:only-of-type {\n        vertical-align: middle;\n    }\n\n    .dataframe tbody tr th {\n        vertical-align: top;\n    }\n\n    .dataframe thead th {\n        text-align: right;\n    }\n</style>\n<table border=\"1\" class=\"dataframe\">\n  <thead>\n    <tr style=\"text-align: right;\">\n      <th></th>\n      <th>product_id</th>\n      <th>brand</th>\n    </tr>\n  </thead>\n  <tbody>\n    <tr>\n      <th>0</th>\n      <td>1</td>\n      <td>B</td>\n    </tr>\n    <tr>\n      <th>1</th>\n      <td>2</td>\n      <td>B</td>\n    </tr>\n    <tr>\n      <th>2</th>\n      <td>3</td>\n      <td>B</td>\n    </tr>\n    <tr>\n      <th>3</th>\n      <td>4</td>\n      <td>B</td>\n    </tr>\n    <tr>\n      <th>4</th>\n      <td>5</td>\n      <td>A</td>\n    </tr>\n  </tbody>\n</table>\n</div>"
     },
     "execution_count": 3,
     "metadata": {},
     "output_type": "execute_result"
    }
   ],
   "source": [
    "products_df = data[\"products\"]\n",
    "products_df"
   ],
   "metadata": {
    "collapsed": false,
    "ExecuteTime": {
     "end_time": "2023-06-22T21:44:32.054047200Z",
     "start_time": "2023-06-22T21:44:32.029044900Z"
    }
   }
  },
  {
   "cell_type": "code",
   "execution_count": 4,
   "outputs": [
    {
     "data": {
      "text/plain": "   customer_id zip_code           join_date   birthday\n0            1    60091 2011-04-17 10:48:33 1994-07-18\n1            2    13244 2012-04-15 23:31:04 1986-08-18\n2            3    13244 2011-08-13 15:42:34 2003-11-21\n3            4    60091 2011-04-08 20:08:14 2006-08-15\n4            5    60091 2010-07-17 05:27:50 1984-07-28",
      "text/html": "<div>\n<style scoped>\n    .dataframe tbody tr th:only-of-type {\n        vertical-align: middle;\n    }\n\n    .dataframe tbody tr th {\n        vertical-align: top;\n    }\n\n    .dataframe thead th {\n        text-align: right;\n    }\n</style>\n<table border=\"1\" class=\"dataframe\">\n  <thead>\n    <tr style=\"text-align: right;\">\n      <th></th>\n      <th>customer_id</th>\n      <th>zip_code</th>\n      <th>join_date</th>\n      <th>birthday</th>\n    </tr>\n  </thead>\n  <tbody>\n    <tr>\n      <th>0</th>\n      <td>1</td>\n      <td>60091</td>\n      <td>2011-04-17 10:48:33</td>\n      <td>1994-07-18</td>\n    </tr>\n    <tr>\n      <th>1</th>\n      <td>2</td>\n      <td>13244</td>\n      <td>2012-04-15 23:31:04</td>\n      <td>1986-08-18</td>\n    </tr>\n    <tr>\n      <th>2</th>\n      <td>3</td>\n      <td>13244</td>\n      <td>2011-08-13 15:42:34</td>\n      <td>2003-11-21</td>\n    </tr>\n    <tr>\n      <th>3</th>\n      <td>4</td>\n      <td>60091</td>\n      <td>2011-04-08 20:08:14</td>\n      <td>2006-08-15</td>\n    </tr>\n    <tr>\n      <th>4</th>\n      <td>5</td>\n      <td>60091</td>\n      <td>2010-07-17 05:27:50</td>\n      <td>1984-07-28</td>\n    </tr>\n  </tbody>\n</table>\n</div>"
     },
     "execution_count": 4,
     "metadata": {},
     "output_type": "execute_result"
    }
   ],
   "source": [
    "customers_df = data[\"customers\"]\n",
    "customers_df"
   ],
   "metadata": {
    "collapsed": false,
    "ExecuteTime": {
     "end_time": "2023-06-22T21:44:32.134043900Z",
     "start_time": "2023-06-22T21:44:32.045044700Z"
    }
   }
  },
  {
   "cell_type": "code",
   "execution_count": 5,
   "outputs": [
    {
     "data": {
      "text/plain": "    session_id  customer_id   device       session_start\n0            1            2  desktop 2014-01-01 00:00:00\n1            2            5   mobile 2014-01-01 00:17:20\n2            3            4   mobile 2014-01-01 00:28:10\n3            4            1   mobile 2014-01-01 00:44:25\n4            5            4   mobile 2014-01-01 01:11:30\n5            6            1   tablet 2014-01-01 01:23:25\n6            7            3   tablet 2014-01-01 01:39:40\n7            8            4   tablet 2014-01-01 01:55:55\n8            9            1  desktop 2014-01-01 02:15:25\n9           10            2   tablet 2014-01-01 02:31:40\n10          11            4   mobile 2014-01-01 02:47:55\n11          12            4  desktop 2014-01-01 03:04:10\n12          13            4   mobile 2014-01-01 03:15:00\n13          14            1   tablet 2014-01-01 03:28:00\n14          15            2  desktop 2014-01-01 03:41:00\n15          16            2  desktop 2014-01-01 03:49:40\n16          17            2   tablet 2014-01-01 04:00:30\n17          18            1  desktop 2014-01-01 04:14:35\n18          19            3  desktop 2014-01-01 04:27:35\n19          20            5  desktop 2014-01-01 04:46:00\n20          21            4  desktop 2014-01-01 05:02:15\n21          22            4  desktop 2014-01-01 05:21:45\n22          23            3  desktop 2014-01-01 05:32:35\n23          24            5   tablet 2014-01-01 05:44:30\n24          25            3  desktop 2014-01-01 05:59:40\n25          26            1   tablet 2014-01-01 06:17:00\n26          27            1   mobile 2014-01-01 06:34:20\n27          28            5   mobile 2014-01-01 06:50:35\n28          29            1   mobile 2014-01-01 07:10:05\n29          30            5  desktop 2014-01-01 07:27:25\n30          31            2   mobile 2014-01-01 07:42:35\n31          32            5   mobile 2014-01-01 08:02:05\n32          33            2   mobile 2014-01-01 08:10:45\n33          34            3  desktop 2014-01-01 08:24:50\n34          35            3   mobile 2014-01-01 08:44:20",
      "text/html": "<div>\n<style scoped>\n    .dataframe tbody tr th:only-of-type {\n        vertical-align: middle;\n    }\n\n    .dataframe tbody tr th {\n        vertical-align: top;\n    }\n\n    .dataframe thead th {\n        text-align: right;\n    }\n</style>\n<table border=\"1\" class=\"dataframe\">\n  <thead>\n    <tr style=\"text-align: right;\">\n      <th></th>\n      <th>session_id</th>\n      <th>customer_id</th>\n      <th>device</th>\n      <th>session_start</th>\n    </tr>\n  </thead>\n  <tbody>\n    <tr>\n      <th>0</th>\n      <td>1</td>\n      <td>2</td>\n      <td>desktop</td>\n      <td>2014-01-01 00:00:00</td>\n    </tr>\n    <tr>\n      <th>1</th>\n      <td>2</td>\n      <td>5</td>\n      <td>mobile</td>\n      <td>2014-01-01 00:17:20</td>\n    </tr>\n    <tr>\n      <th>2</th>\n      <td>3</td>\n      <td>4</td>\n      <td>mobile</td>\n      <td>2014-01-01 00:28:10</td>\n    </tr>\n    <tr>\n      <th>3</th>\n      <td>4</td>\n      <td>1</td>\n      <td>mobile</td>\n      <td>2014-01-01 00:44:25</td>\n    </tr>\n    <tr>\n      <th>4</th>\n      <td>5</td>\n      <td>4</td>\n      <td>mobile</td>\n      <td>2014-01-01 01:11:30</td>\n    </tr>\n    <tr>\n      <th>5</th>\n      <td>6</td>\n      <td>1</td>\n      <td>tablet</td>\n      <td>2014-01-01 01:23:25</td>\n    </tr>\n    <tr>\n      <th>6</th>\n      <td>7</td>\n      <td>3</td>\n      <td>tablet</td>\n      <td>2014-01-01 01:39:40</td>\n    </tr>\n    <tr>\n      <th>7</th>\n      <td>8</td>\n      <td>4</td>\n      <td>tablet</td>\n      <td>2014-01-01 01:55:55</td>\n    </tr>\n    <tr>\n      <th>8</th>\n      <td>9</td>\n      <td>1</td>\n      <td>desktop</td>\n      <td>2014-01-01 02:15:25</td>\n    </tr>\n    <tr>\n      <th>9</th>\n      <td>10</td>\n      <td>2</td>\n      <td>tablet</td>\n      <td>2014-01-01 02:31:40</td>\n    </tr>\n    <tr>\n      <th>10</th>\n      <td>11</td>\n      <td>4</td>\n      <td>mobile</td>\n      <td>2014-01-01 02:47:55</td>\n    </tr>\n    <tr>\n      <th>11</th>\n      <td>12</td>\n      <td>4</td>\n      <td>desktop</td>\n      <td>2014-01-01 03:04:10</td>\n    </tr>\n    <tr>\n      <th>12</th>\n      <td>13</td>\n      <td>4</td>\n      <td>mobile</td>\n      <td>2014-01-01 03:15:00</td>\n    </tr>\n    <tr>\n      <th>13</th>\n      <td>14</td>\n      <td>1</td>\n      <td>tablet</td>\n      <td>2014-01-01 03:28:00</td>\n    </tr>\n    <tr>\n      <th>14</th>\n      <td>15</td>\n      <td>2</td>\n      <td>desktop</td>\n      <td>2014-01-01 03:41:00</td>\n    </tr>\n    <tr>\n      <th>15</th>\n      <td>16</td>\n      <td>2</td>\n      <td>desktop</td>\n      <td>2014-01-01 03:49:40</td>\n    </tr>\n    <tr>\n      <th>16</th>\n      <td>17</td>\n      <td>2</td>\n      <td>tablet</td>\n      <td>2014-01-01 04:00:30</td>\n    </tr>\n    <tr>\n      <th>17</th>\n      <td>18</td>\n      <td>1</td>\n      <td>desktop</td>\n      <td>2014-01-01 04:14:35</td>\n    </tr>\n    <tr>\n      <th>18</th>\n      <td>19</td>\n      <td>3</td>\n      <td>desktop</td>\n      <td>2014-01-01 04:27:35</td>\n    </tr>\n    <tr>\n      <th>19</th>\n      <td>20</td>\n      <td>5</td>\n      <td>desktop</td>\n      <td>2014-01-01 04:46:00</td>\n    </tr>\n    <tr>\n      <th>20</th>\n      <td>21</td>\n      <td>4</td>\n      <td>desktop</td>\n      <td>2014-01-01 05:02:15</td>\n    </tr>\n    <tr>\n      <th>21</th>\n      <td>22</td>\n      <td>4</td>\n      <td>desktop</td>\n      <td>2014-01-01 05:21:45</td>\n    </tr>\n    <tr>\n      <th>22</th>\n      <td>23</td>\n      <td>3</td>\n      <td>desktop</td>\n      <td>2014-01-01 05:32:35</td>\n    </tr>\n    <tr>\n      <th>23</th>\n      <td>24</td>\n      <td>5</td>\n      <td>tablet</td>\n      <td>2014-01-01 05:44:30</td>\n    </tr>\n    <tr>\n      <th>24</th>\n      <td>25</td>\n      <td>3</td>\n      <td>desktop</td>\n      <td>2014-01-01 05:59:40</td>\n    </tr>\n    <tr>\n      <th>25</th>\n      <td>26</td>\n      <td>1</td>\n      <td>tablet</td>\n      <td>2014-01-01 06:17:00</td>\n    </tr>\n    <tr>\n      <th>26</th>\n      <td>27</td>\n      <td>1</td>\n      <td>mobile</td>\n      <td>2014-01-01 06:34:20</td>\n    </tr>\n    <tr>\n      <th>27</th>\n      <td>28</td>\n      <td>5</td>\n      <td>mobile</td>\n      <td>2014-01-01 06:50:35</td>\n    </tr>\n    <tr>\n      <th>28</th>\n      <td>29</td>\n      <td>1</td>\n      <td>mobile</td>\n      <td>2014-01-01 07:10:05</td>\n    </tr>\n    <tr>\n      <th>29</th>\n      <td>30</td>\n      <td>5</td>\n      <td>desktop</td>\n      <td>2014-01-01 07:27:25</td>\n    </tr>\n    <tr>\n      <th>30</th>\n      <td>31</td>\n      <td>2</td>\n      <td>mobile</td>\n      <td>2014-01-01 07:42:35</td>\n    </tr>\n    <tr>\n      <th>31</th>\n      <td>32</td>\n      <td>5</td>\n      <td>mobile</td>\n      <td>2014-01-01 08:02:05</td>\n    </tr>\n    <tr>\n      <th>32</th>\n      <td>33</td>\n      <td>2</td>\n      <td>mobile</td>\n      <td>2014-01-01 08:10:45</td>\n    </tr>\n    <tr>\n      <th>33</th>\n      <td>34</td>\n      <td>3</td>\n      <td>desktop</td>\n      <td>2014-01-01 08:24:50</td>\n    </tr>\n    <tr>\n      <th>34</th>\n      <td>35</td>\n      <td>3</td>\n      <td>mobile</td>\n      <td>2014-01-01 08:44:20</td>\n    </tr>\n  </tbody>\n</table>\n</div>"
     },
     "execution_count": 5,
     "metadata": {},
     "output_type": "execute_result"
    }
   ],
   "source": [
    "sessions_df = data[\"sessions\"]\n",
    "sessions_df"
   ],
   "metadata": {
    "collapsed": false,
    "ExecuteTime": {
     "end_time": "2023-06-22T21:44:32.156046400Z",
     "start_time": "2023-06-22T21:44:32.062045800Z"
    }
   }
  },
  {
   "cell_type": "code",
   "execution_count": 6,
   "outputs": [
    {
     "data": {
      "text/plain": "     transaction_id  session_id    transaction_time product_id  amount\n0               298           1 2014-01-01 00:00:00          5  127.64\n1                 2           1 2014-01-01 00:01:05          2  109.48\n2               308           1 2014-01-01 00:02:10          3   95.06\n3               116           1 2014-01-01 00:03:15          4   78.92\n4               371           1 2014-01-01 00:04:20          3   31.54\n..              ...         ...                 ...        ...     ...\n495             112          35 2014-01-01 08:56:15          5   55.42\n496             111          35 2014-01-01 08:57:20          3   34.87\n497             276          35 2014-01-01 08:58:25          1   10.94\n498             266          35 2014-01-01 08:59:30          5   19.86\n499             203          35 2014-01-01 09:00:35          3  148.31\n\n[500 rows x 5 columns]",
      "text/html": "<div>\n<style scoped>\n    .dataframe tbody tr th:only-of-type {\n        vertical-align: middle;\n    }\n\n    .dataframe tbody tr th {\n        vertical-align: top;\n    }\n\n    .dataframe thead th {\n        text-align: right;\n    }\n</style>\n<table border=\"1\" class=\"dataframe\">\n  <thead>\n    <tr style=\"text-align: right;\">\n      <th></th>\n      <th>transaction_id</th>\n      <th>session_id</th>\n      <th>transaction_time</th>\n      <th>product_id</th>\n      <th>amount</th>\n    </tr>\n  </thead>\n  <tbody>\n    <tr>\n      <th>0</th>\n      <td>298</td>\n      <td>1</td>\n      <td>2014-01-01 00:00:00</td>\n      <td>5</td>\n      <td>127.64</td>\n    </tr>\n    <tr>\n      <th>1</th>\n      <td>2</td>\n      <td>1</td>\n      <td>2014-01-01 00:01:05</td>\n      <td>2</td>\n      <td>109.48</td>\n    </tr>\n    <tr>\n      <th>2</th>\n      <td>308</td>\n      <td>1</td>\n      <td>2014-01-01 00:02:10</td>\n      <td>3</td>\n      <td>95.06</td>\n    </tr>\n    <tr>\n      <th>3</th>\n      <td>116</td>\n      <td>1</td>\n      <td>2014-01-01 00:03:15</td>\n      <td>4</td>\n      <td>78.92</td>\n    </tr>\n    <tr>\n      <th>4</th>\n      <td>371</td>\n      <td>1</td>\n      <td>2014-01-01 00:04:20</td>\n      <td>3</td>\n      <td>31.54</td>\n    </tr>\n    <tr>\n      <th>...</th>\n      <td>...</td>\n      <td>...</td>\n      <td>...</td>\n      <td>...</td>\n      <td>...</td>\n    </tr>\n    <tr>\n      <th>495</th>\n      <td>112</td>\n      <td>35</td>\n      <td>2014-01-01 08:56:15</td>\n      <td>5</td>\n      <td>55.42</td>\n    </tr>\n    <tr>\n      <th>496</th>\n      <td>111</td>\n      <td>35</td>\n      <td>2014-01-01 08:57:20</td>\n      <td>3</td>\n      <td>34.87</td>\n    </tr>\n    <tr>\n      <th>497</th>\n      <td>276</td>\n      <td>35</td>\n      <td>2014-01-01 08:58:25</td>\n      <td>1</td>\n      <td>10.94</td>\n    </tr>\n    <tr>\n      <th>498</th>\n      <td>266</td>\n      <td>35</td>\n      <td>2014-01-01 08:59:30</td>\n      <td>5</td>\n      <td>19.86</td>\n    </tr>\n    <tr>\n      <th>499</th>\n      <td>203</td>\n      <td>35</td>\n      <td>2014-01-01 09:00:35</td>\n      <td>3</td>\n      <td>148.31</td>\n    </tr>\n  </tbody>\n</table>\n<p>500 rows × 5 columns</p>\n</div>"
     },
     "execution_count": 6,
     "metadata": {},
     "output_type": "execute_result"
    }
   ],
   "source": [
    "transactions_df = data[\"transactions\"]\n",
    "transactions_df"
   ],
   "metadata": {
    "collapsed": false,
    "ExecuteTime": {
     "end_time": "2023-06-22T21:44:32.243291700Z",
     "start_time": "2023-06-22T21:44:32.075044300Z"
    }
   }
  },
  {
   "cell_type": "code",
   "execution_count": 13,
   "outputs": [
    {
     "data": {
      "text/plain": "{'customers': (   customer_id  zip_code           join_date   birthday\n  1            1     60091 2011-04-17 10:48:33 1994-07-18\n  2            2     13244 2012-04-15 23:31:04 1986-08-18\n  3            3     13244 2011-08-13 15:42:34 2003-11-21\n  4            4     60091 2011-04-08 20:08:14 2006-08-15\n  5            5     60091 2010-07-17 05:27:50 1984-07-28,\n  'customer_id'),\n 'sessions': (    session_id  customer_id   device       session_start\n  1            1            2  desktop 2014-01-01 00:00:00\n  2            2            5   mobile 2014-01-01 00:17:20\n  3            3            4   mobile 2014-01-01 00:28:10\n  4            4            1   mobile 2014-01-01 00:44:25\n  5            5            4   mobile 2014-01-01 01:11:30\n  6            6            1   tablet 2014-01-01 01:23:25\n  7            7            3   tablet 2014-01-01 01:39:40\n  8            8            4   tablet 2014-01-01 01:55:55\n  9            9            1  desktop 2014-01-01 02:15:25\n  10          10            2   tablet 2014-01-01 02:31:40\n  11          11            4   mobile 2014-01-01 02:47:55\n  12          12            4  desktop 2014-01-01 03:04:10\n  13          13            4   mobile 2014-01-01 03:15:00\n  14          14            1   tablet 2014-01-01 03:28:00\n  15          15            2  desktop 2014-01-01 03:41:00\n  16          16            2  desktop 2014-01-01 03:49:40\n  17          17            2   tablet 2014-01-01 04:00:30\n  18          18            1  desktop 2014-01-01 04:14:35\n  19          19            3  desktop 2014-01-01 04:27:35\n  20          20            5  desktop 2014-01-01 04:46:00\n  21          21            4  desktop 2014-01-01 05:02:15\n  22          22            4  desktop 2014-01-01 05:21:45\n  23          23            3  desktop 2014-01-01 05:32:35\n  24          24            5   tablet 2014-01-01 05:44:30\n  25          25            3  desktop 2014-01-01 05:59:40\n  26          26            1   tablet 2014-01-01 06:17:00\n  27          27            1   mobile 2014-01-01 06:34:20\n  28          28            5   mobile 2014-01-01 06:50:35\n  29          29            1   mobile 2014-01-01 07:10:05\n  30          30            5  desktop 2014-01-01 07:27:25\n  31          31            2   mobile 2014-01-01 07:42:35\n  32          32            5   mobile 2014-01-01 08:02:05\n  33          33            2   mobile 2014-01-01 08:10:45\n  34          34            3  desktop 2014-01-01 08:24:50\n  35          35            3   mobile 2014-01-01 08:44:20,\n  'session_id',\n  'session_start'),\n 'transactions': (     transaction_id  session_id    transaction_time product_id  amount\n  298             298           1 2014-01-01 00:00:00          5  127.64\n  2                 2           1 2014-01-01 00:01:05          2  109.48\n  308             308           1 2014-01-01 00:02:10          3   95.06\n  116             116           1 2014-01-01 00:03:15          4   78.92\n  371             371           1 2014-01-01 00:04:20          3   31.54\n  ..              ...         ...                 ...        ...     ...\n  112             112          35 2014-01-01 08:56:15          5   55.42\n  111             111          35 2014-01-01 08:57:20          3   34.87\n  276             276          35 2014-01-01 08:58:25          1   10.94\n  266             266          35 2014-01-01 08:59:30          5   19.86\n  203             203          35 2014-01-01 09:00:35          3  148.31\n  \n  [500 rows x 5 columns],\n  'transaction_id',\n  'transaction_time')}"
     },
     "execution_count": 13,
     "metadata": {},
     "output_type": "execute_result"
    }
   ],
   "source": [
    "dataframes = {\n",
    "    \"customers\": (customers_df, \"customer_id\"),\n",
    "    \"sessions\": (sessions_df, \"session_id\", \"session_start\"),\n",
    "    \"transactions\": (transactions_df, \"transaction_id\", \"transaction_time\"),\n",
    "}\n",
    "dataframes"
   ],
   "metadata": {
    "collapsed": false,
    "ExecuteTime": {
     "end_time": "2023-06-22T21:45:30.598051Z",
     "start_time": "2023-06-22T21:45:30.585050700Z"
    }
   }
  },
  {
   "cell_type": "code",
   "execution_count": 8,
   "outputs": [],
   "source": [
    "relationships = [\n",
    "    (\"sessions\", \"session_id\", \"transactions\", \"session_id\"),\n",
    "    (\"customers\", \"customer_id\", \"sessions\", \"customer_id\"),\n",
    "]"
   ],
   "metadata": {
    "collapsed": false,
    "ExecuteTime": {
     "end_time": "2023-06-22T21:44:32.281310800Z",
     "start_time": "2023-06-22T21:44:32.108045700Z"
    }
   }
  },
  {
   "cell_type": "code",
   "execution_count": 10,
   "outputs": [
    {
     "name": "stderr",
     "output_type": "stream",
     "text": [
      "C:\\Users\\mikeq\\anaconda3\\lib\\site-packages\\featuretools\\entityset\\entityset.py:754: UserWarning: A Woodwork-initialized DataFrame was provided, so the following parameters were ignored: index\n",
      "  warnings.warn(\n",
      "C:\\Users\\mikeq\\anaconda3\\lib\\site-packages\\featuretools\\entityset\\entityset.py:754: UserWarning: A Woodwork-initialized DataFrame was provided, so the following parameters were ignored: index, time_index\n",
      "  warnings.warn(\n"
     ]
    },
    {
     "data": {
      "text/plain": "             zip_code  COUNT(sessions) MODE(sessions.device)  \\\ncustomer_id                                                    \n1               60091                8                mobile   \n2               13244                7               desktop   \n3               13244                6               desktop   \n4               60091                8                mobile   \n5               60091                6                mobile   \n\n             NUM_UNIQUE(sessions.device)  COUNT(transactions)  \\\ncustomer_id                                                     \n1                                      3                  126   \n2                                      3                   93   \n3                                      3                   93   \n4                                      3                  109   \n5                                      3                   79   \n\n             MAX(transactions.amount)  MEAN(transactions.amount)  \\\ncustomer_id                                                        \n1                              139.43                  71.631905   \n2                              146.81                  77.422366   \n3                              149.15                  67.060430   \n4                              149.95                  80.070459   \n5                              149.02                  80.375443   \n\n             MIN(transactions.amount) MODE(transactions.product_id)  \\\ncustomer_id                                                           \n1                                5.81                             4   \n2                                8.73                             4   \n3                                5.89                             1   \n4                                5.73                             2   \n5                                7.55                             5   \n\n             NUM_UNIQUE(transactions.product_id)  ...  \\\ncustomer_id                                       ...   \n1                                              5  ...   \n2                                              5  ...   \n3                                              5  ...   \n4                                              5  ...   \n5                                              5  ...   \n\n             STD(sessions.SKEW(transactions.amount))  \\\ncustomer_id                                            \n1                                           0.589386   \n2                                           0.509798   \n3                                           0.429374   \n4                                           0.387884   \n5                                           0.415426   \n\n             STD(sessions.SUM(transactions.amount))  \\\ncustomer_id                                           \n1                                        279.510713   \n2                                        251.609234   \n3                                        219.021420   \n4                                        235.992478   \n5                                        402.775486   \n\n             SUM(sessions.MAX(transactions.amount))  \\\ncustomer_id                                           \n1                                           1057.97   \n2                                            931.63   \n3                                            847.63   \n4                                           1157.99   \n5                                            839.76   \n\n            SUM(sessions.MEAN(transactions.amount))  \\\ncustomer_id                                           \n1                                        582.193117   \n2                                        548.905851   \n3                                        405.237462   \n4                                        649.657515   \n5                                        472.231119   \n\n            SUM(sessions.MIN(transactions.amount))  \\\ncustomer_id                                          \n1                                            78.59   \n2                                           154.60   \n3                                            66.21   \n4                                           131.51   \n5                                            86.49   \n\n            SUM(sessions.NUM_UNIQUE(transactions.product_id))  \\\ncustomer_id                                                     \n1                                                        40.0   \n2                                                        35.0   \n3                                                        29.0   \n4                                                        37.0   \n5                                                        30.0   \n\n            SUM(sessions.SKEW(transactions.amount))  \\\ncustomer_id                                           \n1                                         -0.476122   \n2                                         -0.277640   \n3                                          2.286086   \n4                                          0.002764   \n5                                          0.014384   \n\n            SUM(sessions.STD(transactions.amount))  \\\ncustomer_id                                          \n1                                       312.745952   \n2                                       258.700528   \n3                                       257.299895   \n4                                       356.125829   \n5                                       259.873954   \n\n            MODE(transactions.sessions.device)  \\\ncustomer_id                                      \n1                                       mobile   \n2                                      desktop   \n3                                      desktop   \n4                                       mobile   \n5                                       mobile   \n\n            NUM_UNIQUE(transactions.sessions.device)  \ncustomer_id                                           \n1                                                  3  \n2                                                  3  \n3                                                  3  \n4                                                  3  \n5                                                  3  \n\n[5 rows x 75 columns]",
      "text/html": "<div>\n<style scoped>\n    .dataframe tbody tr th:only-of-type {\n        vertical-align: middle;\n    }\n\n    .dataframe tbody tr th {\n        vertical-align: top;\n    }\n\n    .dataframe thead th {\n        text-align: right;\n    }\n</style>\n<table border=\"1\" class=\"dataframe\">\n  <thead>\n    <tr style=\"text-align: right;\">\n      <th></th>\n      <th>zip_code</th>\n      <th>COUNT(sessions)</th>\n      <th>MODE(sessions.device)</th>\n      <th>NUM_UNIQUE(sessions.device)</th>\n      <th>COUNT(transactions)</th>\n      <th>MAX(transactions.amount)</th>\n      <th>MEAN(transactions.amount)</th>\n      <th>MIN(transactions.amount)</th>\n      <th>MODE(transactions.product_id)</th>\n      <th>NUM_UNIQUE(transactions.product_id)</th>\n      <th>...</th>\n      <th>STD(sessions.SKEW(transactions.amount))</th>\n      <th>STD(sessions.SUM(transactions.amount))</th>\n      <th>SUM(sessions.MAX(transactions.amount))</th>\n      <th>SUM(sessions.MEAN(transactions.amount))</th>\n      <th>SUM(sessions.MIN(transactions.amount))</th>\n      <th>SUM(sessions.NUM_UNIQUE(transactions.product_id))</th>\n      <th>SUM(sessions.SKEW(transactions.amount))</th>\n      <th>SUM(sessions.STD(transactions.amount))</th>\n      <th>MODE(transactions.sessions.device)</th>\n      <th>NUM_UNIQUE(transactions.sessions.device)</th>\n    </tr>\n    <tr>\n      <th>customer_id</th>\n      <th></th>\n      <th></th>\n      <th></th>\n      <th></th>\n      <th></th>\n      <th></th>\n      <th></th>\n      <th></th>\n      <th></th>\n      <th></th>\n      <th></th>\n      <th></th>\n      <th></th>\n      <th></th>\n      <th></th>\n      <th></th>\n      <th></th>\n      <th></th>\n      <th></th>\n      <th></th>\n      <th></th>\n    </tr>\n  </thead>\n  <tbody>\n    <tr>\n      <th>1</th>\n      <td>60091</td>\n      <td>8</td>\n      <td>mobile</td>\n      <td>3</td>\n      <td>126</td>\n      <td>139.43</td>\n      <td>71.631905</td>\n      <td>5.81</td>\n      <td>4</td>\n      <td>5</td>\n      <td>...</td>\n      <td>0.589386</td>\n      <td>279.510713</td>\n      <td>1057.97</td>\n      <td>582.193117</td>\n      <td>78.59</td>\n      <td>40.0</td>\n      <td>-0.476122</td>\n      <td>312.745952</td>\n      <td>mobile</td>\n      <td>3</td>\n    </tr>\n    <tr>\n      <th>2</th>\n      <td>13244</td>\n      <td>7</td>\n      <td>desktop</td>\n      <td>3</td>\n      <td>93</td>\n      <td>146.81</td>\n      <td>77.422366</td>\n      <td>8.73</td>\n      <td>4</td>\n      <td>5</td>\n      <td>...</td>\n      <td>0.509798</td>\n      <td>251.609234</td>\n      <td>931.63</td>\n      <td>548.905851</td>\n      <td>154.60</td>\n      <td>35.0</td>\n      <td>-0.277640</td>\n      <td>258.700528</td>\n      <td>desktop</td>\n      <td>3</td>\n    </tr>\n    <tr>\n      <th>3</th>\n      <td>13244</td>\n      <td>6</td>\n      <td>desktop</td>\n      <td>3</td>\n      <td>93</td>\n      <td>149.15</td>\n      <td>67.060430</td>\n      <td>5.89</td>\n      <td>1</td>\n      <td>5</td>\n      <td>...</td>\n      <td>0.429374</td>\n      <td>219.021420</td>\n      <td>847.63</td>\n      <td>405.237462</td>\n      <td>66.21</td>\n      <td>29.0</td>\n      <td>2.286086</td>\n      <td>257.299895</td>\n      <td>desktop</td>\n      <td>3</td>\n    </tr>\n    <tr>\n      <th>4</th>\n      <td>60091</td>\n      <td>8</td>\n      <td>mobile</td>\n      <td>3</td>\n      <td>109</td>\n      <td>149.95</td>\n      <td>80.070459</td>\n      <td>5.73</td>\n      <td>2</td>\n      <td>5</td>\n      <td>...</td>\n      <td>0.387884</td>\n      <td>235.992478</td>\n      <td>1157.99</td>\n      <td>649.657515</td>\n      <td>131.51</td>\n      <td>37.0</td>\n      <td>0.002764</td>\n      <td>356.125829</td>\n      <td>mobile</td>\n      <td>3</td>\n    </tr>\n    <tr>\n      <th>5</th>\n      <td>60091</td>\n      <td>6</td>\n      <td>mobile</td>\n      <td>3</td>\n      <td>79</td>\n      <td>149.02</td>\n      <td>80.375443</td>\n      <td>7.55</td>\n      <td>5</td>\n      <td>5</td>\n      <td>...</td>\n      <td>0.415426</td>\n      <td>402.775486</td>\n      <td>839.76</td>\n      <td>472.231119</td>\n      <td>86.49</td>\n      <td>30.0</td>\n      <td>0.014384</td>\n      <td>259.873954</td>\n      <td>mobile</td>\n      <td>3</td>\n    </tr>\n  </tbody>\n</table>\n<p>5 rows × 75 columns</p>\n</div>"
     },
     "execution_count": 10,
     "metadata": {},
     "output_type": "execute_result"
    }
   ],
   "source": [
    "feature_matrix_customers, features_defs = ft.dfs(\n",
    "    dataframes=dataframes,\n",
    "    relationships=relationships,\n",
    "    target_dataframe_name=\"customers\",\n",
    ")\n",
    "feature_matrix_customers"
   ],
   "metadata": {
    "collapsed": false,
    "ExecuteTime": {
     "end_time": "2023-06-22T21:44:46.415281900Z",
     "start_time": "2023-06-22T21:44:46.243972200Z"
    }
   }
  },
  {
   "cell_type": "code",
   "execution_count": 14,
   "outputs": [
    {
     "name": "stderr",
     "output_type": "stream",
     "text": [
      "C:\\Users\\mikeq\\anaconda3\\lib\\site-packages\\featuretools\\entityset\\entityset.py:754: UserWarning: A Woodwork-initialized DataFrame was provided, so the following parameters were ignored: index\n",
      "  warnings.warn(\n",
      "C:\\Users\\mikeq\\anaconda3\\lib\\site-packages\\featuretools\\entityset\\entityset.py:754: UserWarning: A Woodwork-initialized DataFrame was provided, so the following parameters were ignored: index, time_index\n",
      "  warnings.warn(\n"
     ]
    },
    {
     "data": {
      "text/plain": "            customer_id   device  COUNT(transactions)  \\\nsession_id                                              \n1                     2  desktop                   16   \n2                     5   mobile                   10   \n3                     4   mobile                   15   \n4                     1   mobile                   25   \n5                     4   mobile                   11   \n\n            MAX(transactions.amount)  MEAN(transactions.amount)  \\\nsession_id                                                        \n1                             141.66                  76.813125   \n2                             135.25                  74.696000   \n3                             147.73                  88.600000   \n4                             129.00                  64.557200   \n5                             139.20                  70.638182   \n\n            MIN(transactions.amount) MODE(transactions.product_id)  \\\nsession_id                                                           \n1                              20.91                             3   \n2                               9.32                             5   \n3                               8.70                             1   \n4                               6.29                             5   \n5                               7.43                             5   \n\n            NUM_UNIQUE(transactions.product_id)  SKEW(transactions.amount)  \\\nsession_id                                                                   \n1                                             5                   0.295458   \n2                                             5                  -0.160550   \n3                                             5                  -0.324012   \n4                                             5                   0.234349   \n5                                             5                   0.336381   \n\n            STD(transactions.amount)  ...  customers.STD(transactions.amount)  \\\nsession_id                            ...                                       \n1                          41.600976  ...                           37.705178   \n2                          45.893591  ...                           44.095630   \n3                          46.240016  ...                           45.068765   \n4                          40.187205  ...                           40.442059   \n5                          48.918663  ...                           45.068765   \n\n           customers.SUM(transactions.amount) customers.DAY(birthday)  \\\nsession_id                                                              \n1                                     7200.28                      18   \n2                                     6349.66                      28   \n3                                     8727.68                      15   \n4                                     9025.62                      18   \n5                                     8727.68                      15   \n\n           customers.DAY(join_date) customers.MONTH(birthday)  \\\nsession_id                                                      \n1                                15                         8   \n2                                17                         7   \n3                                 8                         8   \n4                                17                         7   \n5                                 8                         8   \n\n            customers.MONTH(join_date) customers.WEEKDAY(birthday)  \\\nsession_id                                                           \n1                                    4                           0   \n2                                    7                           5   \n3                                    4                           1   \n4                                    4                           0   \n5                                    4                           1   \n\n           customers.WEEKDAY(join_date) customers.YEAR(birthday)  \\\nsession_id                                                         \n1                                     6                     1986   \n2                                     5                     1984   \n3                                     4                     2006   \n4                                     6                     1994   \n5                                     4                     2006   \n\n           customers.YEAR(join_date)  \nsession_id                            \n1                               2012  \n2                               2010  \n3                               2011  \n4                               2011  \n5                               2011  \n\n[5 rows x 44 columns]",
      "text/html": "<div>\n<style scoped>\n    .dataframe tbody tr th:only-of-type {\n        vertical-align: middle;\n    }\n\n    .dataframe tbody tr th {\n        vertical-align: top;\n    }\n\n    .dataframe thead th {\n        text-align: right;\n    }\n</style>\n<table border=\"1\" class=\"dataframe\">\n  <thead>\n    <tr style=\"text-align: right;\">\n      <th></th>\n      <th>customer_id</th>\n      <th>device</th>\n      <th>COUNT(transactions)</th>\n      <th>MAX(transactions.amount)</th>\n      <th>MEAN(transactions.amount)</th>\n      <th>MIN(transactions.amount)</th>\n      <th>MODE(transactions.product_id)</th>\n      <th>NUM_UNIQUE(transactions.product_id)</th>\n      <th>SKEW(transactions.amount)</th>\n      <th>STD(transactions.amount)</th>\n      <th>...</th>\n      <th>customers.STD(transactions.amount)</th>\n      <th>customers.SUM(transactions.amount)</th>\n      <th>customers.DAY(birthday)</th>\n      <th>customers.DAY(join_date)</th>\n      <th>customers.MONTH(birthday)</th>\n      <th>customers.MONTH(join_date)</th>\n      <th>customers.WEEKDAY(birthday)</th>\n      <th>customers.WEEKDAY(join_date)</th>\n      <th>customers.YEAR(birthday)</th>\n      <th>customers.YEAR(join_date)</th>\n    </tr>\n    <tr>\n      <th>session_id</th>\n      <th></th>\n      <th></th>\n      <th></th>\n      <th></th>\n      <th></th>\n      <th></th>\n      <th></th>\n      <th></th>\n      <th></th>\n      <th></th>\n      <th></th>\n      <th></th>\n      <th></th>\n      <th></th>\n      <th></th>\n      <th></th>\n      <th></th>\n      <th></th>\n      <th></th>\n      <th></th>\n      <th></th>\n    </tr>\n  </thead>\n  <tbody>\n    <tr>\n      <th>1</th>\n      <td>2</td>\n      <td>desktop</td>\n      <td>16</td>\n      <td>141.66</td>\n      <td>76.813125</td>\n      <td>20.91</td>\n      <td>3</td>\n      <td>5</td>\n      <td>0.295458</td>\n      <td>41.600976</td>\n      <td>...</td>\n      <td>37.705178</td>\n      <td>7200.28</td>\n      <td>18</td>\n      <td>15</td>\n      <td>8</td>\n      <td>4</td>\n      <td>0</td>\n      <td>6</td>\n      <td>1986</td>\n      <td>2012</td>\n    </tr>\n    <tr>\n      <th>2</th>\n      <td>5</td>\n      <td>mobile</td>\n      <td>10</td>\n      <td>135.25</td>\n      <td>74.696000</td>\n      <td>9.32</td>\n      <td>5</td>\n      <td>5</td>\n      <td>-0.160550</td>\n      <td>45.893591</td>\n      <td>...</td>\n      <td>44.095630</td>\n      <td>6349.66</td>\n      <td>28</td>\n      <td>17</td>\n      <td>7</td>\n      <td>7</td>\n      <td>5</td>\n      <td>5</td>\n      <td>1984</td>\n      <td>2010</td>\n    </tr>\n    <tr>\n      <th>3</th>\n      <td>4</td>\n      <td>mobile</td>\n      <td>15</td>\n      <td>147.73</td>\n      <td>88.600000</td>\n      <td>8.70</td>\n      <td>1</td>\n      <td>5</td>\n      <td>-0.324012</td>\n      <td>46.240016</td>\n      <td>...</td>\n      <td>45.068765</td>\n      <td>8727.68</td>\n      <td>15</td>\n      <td>8</td>\n      <td>8</td>\n      <td>4</td>\n      <td>1</td>\n      <td>4</td>\n      <td>2006</td>\n      <td>2011</td>\n    </tr>\n    <tr>\n      <th>4</th>\n      <td>1</td>\n      <td>mobile</td>\n      <td>25</td>\n      <td>129.00</td>\n      <td>64.557200</td>\n      <td>6.29</td>\n      <td>5</td>\n      <td>5</td>\n      <td>0.234349</td>\n      <td>40.187205</td>\n      <td>...</td>\n      <td>40.442059</td>\n      <td>9025.62</td>\n      <td>18</td>\n      <td>17</td>\n      <td>7</td>\n      <td>4</td>\n      <td>0</td>\n      <td>6</td>\n      <td>1994</td>\n      <td>2011</td>\n    </tr>\n    <tr>\n      <th>5</th>\n      <td>4</td>\n      <td>mobile</td>\n      <td>11</td>\n      <td>139.20</td>\n      <td>70.638182</td>\n      <td>7.43</td>\n      <td>5</td>\n      <td>5</td>\n      <td>0.336381</td>\n      <td>48.918663</td>\n      <td>...</td>\n      <td>45.068765</td>\n      <td>8727.68</td>\n      <td>15</td>\n      <td>8</td>\n      <td>8</td>\n      <td>4</td>\n      <td>1</td>\n      <td>4</td>\n      <td>2006</td>\n      <td>2011</td>\n    </tr>\n  </tbody>\n</table>\n<p>5 rows × 44 columns</p>\n</div>"
     },
     "execution_count": 14,
     "metadata": {},
     "output_type": "execute_result"
    }
   ],
   "source": [
    "feature_matrix_sessions, features_defs = ft.dfs(\n",
    "    dataframes=dataframes, relationships=relationships, target_dataframe_name=\"sessions\"\n",
    ")\n",
    "feature_matrix_sessions.head(5)"
   ],
   "metadata": {
    "collapsed": false,
    "ExecuteTime": {
     "end_time": "2023-06-22T21:46:36.855187100Z",
     "start_time": "2023-06-22T21:46:36.706188800Z"
    }
   }
  },
  {
   "cell_type": "code",
   "execution_count": 8,
   "outputs": [],
   "source": [],
   "metadata": {
    "collapsed": false,
    "ExecuteTime": {
     "end_time": "2023-07-01T19:48:58.657598700Z",
     "start_time": "2023-07-01T19:48:58.651598800Z"
    }
   }
  }
 ],
 "metadata": {
  "kernelspec": {
   "name": "python3",
   "language": "python",
   "display_name": "Python 3 (ipykernel)"
  },
  "language_info": {
   "codemirror_mode": {
    "name": "ipython",
    "version": 2
   },
   "file_extension": ".py",
   "mimetype": "text/x-python",
   "name": "python",
   "nbconvert_exporter": "python",
   "pygments_lexer": "ipython2",
   "version": "2.7.6"
  }
 },
 "nbformat": 4,
 "nbformat_minor": 0
}
